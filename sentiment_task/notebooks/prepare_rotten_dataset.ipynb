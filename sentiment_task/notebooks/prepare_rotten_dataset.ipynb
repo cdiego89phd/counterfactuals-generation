{
 "cells": [
  {
   "cell_type": "markdown",
   "source": [
    "In this notebook we prepare the rotten tomatoes reviews corpus that will be use to perform CONTINUAL PRE-TRAINING on the different language models"
   ],
   "metadata": {
    "collapsed": false,
    "pycharm": {
     "name": "#%% md\n"
    }
   }
  },
  {
   "cell_type": "code",
   "execution_count": 23,
   "outputs": [],
   "source": [
    "import pandas as pd\n",
    "import sklearn\n",
    "import random\n",
    "\n",
    "def random_shuffle_df(df, s):\n",
    "    random.seed(s)\n",
    "    df = sklearn.utils.shuffle(df)\n",
    "    return df"
   ],
   "metadata": {
    "collapsed": false,
    "pycharm": {
     "name": "#%%\n"
    }
   }
  },
  {
   "cell_type": "code",
   "execution_count": 25,
   "outputs": [],
   "source": [
    "seed = 22\n",
    "training_prop = 0.9\n",
    "file_path = \"/home/diego/counterfactuals-generation/\"\n",
    "movies = pd.read_csv(file_path +\"rotten_tomatoes_movies.csv\")\n",
    "reviews = pd.read_csv(file_path + \"rotten_tomatoes_critic_reviews.csv\")"
   ],
   "metadata": {
    "collapsed": false,
    "pycharm": {
     "name": "#%%\n"
    }
   }
  },
  {
   "cell_type": "code",
   "execution_count": 21,
   "outputs": [
    {
     "data": {
      "text/plain": "  rotten_tomatoes_link      critic_name  top_critic  publisher_name  \\\n0            m/0814255  Andrew L. Urban       False  Urban Cinefile   \n1            m/0814255    Louise Keller       False  Urban Cinefile   \n\n  review_type review_score review_date  \\\n0       Fresh          NaN  2010-02-06   \n1       Fresh          NaN  2010-02-06   \n\n                                      review_content  \n0  A fantasy adventure that fuses Greek mythology...  \n1  Uma Thurman as Medusa, the gorgon with a coiff...  ",
      "text/html": "<div>\n<style scoped>\n    .dataframe tbody tr th:only-of-type {\n        vertical-align: middle;\n    }\n\n    .dataframe tbody tr th {\n        vertical-align: top;\n    }\n\n    .dataframe thead th {\n        text-align: right;\n    }\n</style>\n<table border=\"1\" class=\"dataframe\">\n  <thead>\n    <tr style=\"text-align: right;\">\n      <th></th>\n      <th>rotten_tomatoes_link</th>\n      <th>critic_name</th>\n      <th>top_critic</th>\n      <th>publisher_name</th>\n      <th>review_type</th>\n      <th>review_score</th>\n      <th>review_date</th>\n      <th>review_content</th>\n    </tr>\n  </thead>\n  <tbody>\n    <tr>\n      <th>0</th>\n      <td>m/0814255</td>\n      <td>Andrew L. Urban</td>\n      <td>False</td>\n      <td>Urban Cinefile</td>\n      <td>Fresh</td>\n      <td>NaN</td>\n      <td>2010-02-06</td>\n      <td>A fantasy adventure that fuses Greek mythology...</td>\n    </tr>\n    <tr>\n      <th>1</th>\n      <td>m/0814255</td>\n      <td>Louise Keller</td>\n      <td>False</td>\n      <td>Urban Cinefile</td>\n      <td>Fresh</td>\n      <td>NaN</td>\n      <td>2010-02-06</td>\n      <td>Uma Thurman as Medusa, the gorgon with a coiff...</td>\n    </tr>\n  </tbody>\n</table>\n</div>"
     },
     "execution_count": 21,
     "metadata": {},
     "output_type": "execute_result"
    }
   ],
   "source": [
    "reviews.head(2)"
   ],
   "metadata": {
    "collapsed": false,
    "pycharm": {
     "name": "#%%\n"
    }
   }
  },
  {
   "cell_type": "code",
   "execution_count": 22,
   "outputs": [
    {
     "data": {
      "text/plain": "0    A fantasy adventure that fuses Greek mythology...\n1    Uma Thurman as Medusa, the gorgon with a coiff...\nName: review_content, dtype: object"
     },
     "execution_count": 22,
     "metadata": {},
     "output_type": "execute_result"
    }
   ],
   "source": [
    "review_content = reviews[\"review_content\"]\n",
    "review_content.head(2)"
   ],
   "metadata": {
    "collapsed": false,
    "pycharm": {
     "name": "#%%\n"
    }
   }
  },
  {
   "cell_type": "code",
   "execution_count": 19,
   "outputs": [],
   "source": [
    "out_name = \"rotten_tomatoes_corpus.txt\"\n",
    "review_content.to_csv(file_path + out_name, header=False, index=False)"
   ],
   "metadata": {
    "collapsed": false,
    "pycharm": {
     "name": "#%%\n"
    }
   }
  },
  {
   "cell_type": "code",
   "execution_count": 24,
   "outputs": [
    {
     "data": {
      "text/plain": "837214    Surely there will come a time when smart, tale...\n961620    McQueen's thrilling motorcycle ride has long b...\nName: review_content, dtype: object"
     },
     "execution_count": 24,
     "metadata": {},
     "output_type": "execute_result"
    }
   ],
   "source": [
    "# split the dataset into training and test\n",
    "review_content = random_shuffle_df(review_content, seed)\n",
    "review_content.head(2)"
   ],
   "metadata": {
    "collapsed": false,
    "pycharm": {
     "name": "#%%\n"
    }
   }
  },
  {
   "cell_type": "code",
   "execution_count": 30,
   "outputs": [
    {
     "name": "stdout",
     "output_type": "stream",
     "text": [
      "True\n"
     ]
    }
   ],
   "source": [
    "m = len(review_content)\n",
    "l = int(m*training_prop)\n",
    "trainset = review_content.iloc[0:l]\n",
    "testset = review_content.iloc[l:]\n",
    "print(f\"{m == len(trainset) + len(testset)}\")"
   ],
   "metadata": {
    "collapsed": false,
    "pycharm": {
     "name": "#%%\n"
    }
   }
  },
  {
   "cell_type": "code",
   "execution_count": 31,
   "outputs": [],
   "source": [
    "out_name = \"rotten_tomatoes_trainset.txt\"\n",
    "trainset.to_csv(file_path + out_name, header=False, index=False)"
   ],
   "metadata": {
    "collapsed": false,
    "pycharm": {
     "name": "#%%\n"
    }
   }
  },
  {
   "cell_type": "code",
   "execution_count": 32,
   "outputs": [],
   "source": [
    "out_name = \"rotten_tomatoes_testset.txt\"\n",
    "testset.to_csv(file_path + out_name, header=False, index=False)"
   ],
   "metadata": {
    "collapsed": false,
    "pycharm": {
     "name": "#%%\n"
    }
   }
  },
  {
   "cell_type": "code",
   "execution_count": null,
   "outputs": [],
   "source": [],
   "metadata": {
    "collapsed": false,
    "pycharm": {
     "name": "#%%\n"
    }
   }
  }
 ],
 "metadata": {
  "kernelspec": {
   "display_name": "Python 3",
   "language": "python",
   "name": "python3"
  },
  "language_info": {
   "codemirror_mode": {
    "name": "ipython",
    "version": 2
   },
   "file_extension": ".py",
   "mimetype": "text/x-python",
   "name": "python",
   "nbconvert_exporter": "python",
   "pygments_lexer": "ipython2",
   "version": "2.7.6"
  }
 },
 "nbformat": 4,
 "nbformat_minor": 0
}