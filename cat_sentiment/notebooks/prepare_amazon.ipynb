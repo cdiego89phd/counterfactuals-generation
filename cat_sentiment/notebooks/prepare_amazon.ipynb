{
 "cells": [
  {
   "cell_type": "code",
   "execution_count": 1,
   "metadata": {
    "collapsed": true
   },
   "outputs": [],
   "source": [
    "from datasets import load_dataset\n",
    "import pandas as pd\n",
    "import numpy as np"
   ]
  },
  {
   "cell_type": "code",
   "execution_count": null,
   "outputs": [],
   "source": [],
   "metadata": {
    "collapsed": false
   }
  },
  {
   "cell_type": "code",
   "execution_count": 25,
   "outputs": [],
   "source": [],
   "metadata": {
    "collapsed": false
   }
  },
  {
   "cell_type": "markdown",
   "source": [
    "<h1>Amazon reviews</h1>"
   ],
   "metadata": {
    "collapsed": false
   }
  },
  {
   "cell_type": "code",
   "execution_count": 26,
   "outputs": [
    {
     "name": "stderr",
     "output_type": "stream",
     "text": [
      "Using custom data configuration mteb--amazon_polarity-f33df51a02e26041\n",
      "Reusing dataset json (/home/diego/.cache/huggingface/datasets/json/mteb--amazon_polarity-f33df51a02e26041/0.0.0/ac0ca5f5289a6cf108e706efcf040422dbbfa8e658dee6a819f20d76bb84d26b)\n"
     ]
    },
    {
     "data": {
      "text/plain": "  0%|          | 0/2 [00:00<?, ?it/s]",
      "application/vnd.jupyter.widget-view+json": {
       "version_major": 2,
       "version_minor": 0,
       "model_id": "f4e25a23f0884cfeb44266bd93bff2bc"
      }
     },
     "metadata": {},
     "output_type": "display_data"
    }
   ],
   "source": [
    "amazon_data = load_dataset(\"mteb/amazon_polarity\")"
   ],
   "metadata": {
    "collapsed": false
   }
  },
  {
   "cell_type": "code",
   "execution_count": 27,
   "outputs": [
    {
     "name": "stdout",
     "output_type": "stream",
     "text": [
      "Total length of polarity amazon test 400000\n",
      "Total length of polarity amazon train 3600000\n"
     ]
    }
   ],
   "source": [
    "print(f\"Total length of polarity amazon test {len(amazon_data['test'])}\")\n",
    "print(f\"Total length of polarity amazon train {len(amazon_data['train'])}\")"
   ],
   "metadata": {
    "collapsed": false
   }
  },
  {
   "cell_type": "code",
   "execution_count": 28,
   "outputs": [
    {
     "data": {
      "text/plain": "Dataset({\n    features: ['label', 'text', 'label_text'],\n    num_rows: 400000\n})"
     },
     "execution_count": 28,
     "metadata": {},
     "output_type": "execute_result"
    }
   ],
   "source": [
    "amazon_data[\"test\"]"
   ],
   "metadata": {
    "collapsed": false
   }
  },
  {
   "cell_type": "markdown",
   "source": [
    "We will only consider the Amazon test set to proceed"
   ],
   "metadata": {
    "collapsed": false
   }
  },
  {
   "cell_type": "code",
   "execution_count": 29,
   "outputs": [
    {
     "data": {
      "text/plain": "                                                text  labels sentiment\n0  Great CD\\n\\nMy lovely Pat has one of the GREAT...       1  positive\n1  One of the best game music soundtracks - for a...       1  positive",
      "text/html": "<div>\n<style scoped>\n    .dataframe tbody tr th:only-of-type {\n        vertical-align: middle;\n    }\n\n    .dataframe tbody tr th {\n        vertical-align: top;\n    }\n\n    .dataframe thead th {\n        text-align: right;\n    }\n</style>\n<table border=\"1\" class=\"dataframe\">\n  <thead>\n    <tr style=\"text-align: right;\">\n      <th></th>\n      <th>text</th>\n      <th>labels</th>\n      <th>sentiment</th>\n    </tr>\n  </thead>\n  <tbody>\n    <tr>\n      <th>0</th>\n      <td>Great CD\\n\\nMy lovely Pat has one of the GREAT...</td>\n      <td>1</td>\n      <td>positive</td>\n    </tr>\n    <tr>\n      <th>1</th>\n      <td>One of the best game music soundtracks - for a...</td>\n      <td>1</td>\n      <td>positive</td>\n    </tr>\n  </tbody>\n</table>\n</div>"
     },
     "execution_count": 29,
     "metadata": {},
     "output_type": "execute_result"
    }
   ],
   "source": [
    "data = amazon_data['test']\n",
    "text = [i for i in data[\"text\"]]\n",
    "labels = [i for i in data[\"label\"]]\n",
    "d = {\"text\": text,\n",
    "     \"labels\": labels}\n",
    "amazon_data = pd.DataFrame(data=d)\n",
    "amazon_data[\"sentiment\"] = amazon_data.apply(lambda row: \"positive\" if row['labels'] else \"negative\", axis=1)\n",
    "amazon_data.head(2)"
   ],
   "metadata": {
    "collapsed": false
   }
  },
  {
   "cell_type": "markdown",
   "source": [
    "randomly sample 30k instances. Filter out long and short reviews."
   ],
   "metadata": {
    "collapsed": false
   }
  },
  {
   "cell_type": "code",
   "execution_count": 30,
   "outputs": [
    {
     "name": "stdout",
     "output_type": "stream",
     "text": [
      "Max len: 211\n",
      "Mean len: 77.27396666666667\n",
      "Min len: 13\n",
      "df len:30000\n"
     ]
    },
    {
     "data": {
      "text/plain": "1    15080\n0    14920\nName: labels, dtype: int64"
     },
     "execution_count": 30,
     "metadata": {},
     "output_type": "execute_result"
    }
   ],
   "source": [
    "# sample records\n",
    "df_amazon = amazon_data.sample(n=30000, replace=False)\n",
    "\n",
    "# filter out reviews longer than 2000 and shorter than 10 words\n",
    "texts = df_amazon[\"text\"].values\n",
    "df_amazon[\"review_len\"] = [len(el.split(\" \")) for el in texts]\n",
    "df_amazon = df_amazon[(df_amazon[\"review_len\"] <= 2000) & (df_amazon[\"review_len\"] >= 10)].copy()\n",
    "\n",
    "lens = [len(el) for el in df_amazon[\"text\"].values]\n",
    "print(f\"Max len: {np.max(df_amazon['review_len'].values)}\")\n",
    "print(f\"Mean len: {np.mean(df_amazon['review_len'].values)}\")\n",
    "print(f\"Min len: {np.min(df_amazon['review_len'].values)}\")\n",
    "\n",
    "print(f\"df len:{len(df_amazon)}\")\n",
    "df_amazon[\"labels\"].value_counts()"
   ],
   "metadata": {
    "collapsed": false
   }
  },
  {
   "cell_type": "code",
   "execution_count": 31,
   "outputs": [],
   "source": [
    "df_pos = df_amazon[df_amazon[\"labels\"] == 1].copy()\n",
    "df_neg = df_amazon[df_amazon[\"labels\"] == 0].copy()"
   ],
   "metadata": {
    "collapsed": false
   }
  },
  {
   "cell_type": "markdown",
   "source": [
    "## Sample train-test split 7.5k-1k"
   ],
   "metadata": {
    "collapsed": false
   }
  },
  {
   "cell_type": "code",
   "execution_count": 32,
   "outputs": [
    {
     "name": "stdout",
     "output_type": "stream",
     "text": [
      "\n",
      "len test: 1000\n",
      "len train: 7500\n"
     ]
    }
   ],
   "source": [
    "seed = 2023\n",
    "\n",
    "# shuffle data\n",
    "df_pos = df_pos.sample(frac = 1, replace=False)\n",
    "df_pos.reset_index(inplace=True)\n",
    "df_neg = df_neg.sample(frac = 1, replace=False)\n",
    "df_neg.reset_index(inplace=True)\n",
    "\n",
    "# sample positive and negative labels\n",
    "data_pos = df_pos.sample(n=4250, replace=False, random_state=seed)\n",
    "data_neg = df_neg.sample(n=4250, replace=False, random_state=seed)\n",
    "\n",
    "\n",
    "# sample train-test split positive labels\n",
    "test_pos = data_pos.sample(n=500, replace=False, random_state=seed)\n",
    "train_pos = data_pos[~data_pos.index.isin(test_pos.index)]\n",
    "\n",
    "# sample train-test split negative labels\n",
    "test_neg = data_neg.sample(n=500, replace=False, random_state=seed)\n",
    "train_neg = data_neg[~data_neg.index.isin(test_neg.index)]\n",
    "\n",
    "# build train and test\n",
    "testset = pd.concat([test_neg, test_pos])\n",
    "trainset = pd.concat([train_neg, train_pos])\n",
    "\n",
    "print()\n",
    "print(f\"len test: {len(testset)}\")\n",
    "print(f\"len train: {len(trainset)}\")"
   ],
   "metadata": {
    "collapsed": false
   }
  },
  {
   "cell_type": "code",
   "execution_count": 33,
   "outputs": [],
   "source": [
    "testset.to_csv(\"../amazon/test.csv\", sep=\"\\t\", index=False)\n",
    "trainset.to_csv(\"../amazon/train.csv\", sep=\"\\t\", index=False)"
   ],
   "metadata": {
    "collapsed": false
   }
  },
  {
   "cell_type": "code",
   "execution_count": 33,
   "outputs": [],
   "source": [],
   "metadata": {
    "collapsed": false
   }
  },
  {
   "cell_type": "code",
   "execution_count": 34,
   "outputs": [],
   "source": [
    "def produce_datasets(n, m, out_dir):\n",
    "    train_set = pd.read_csv(\"../amazon/train.csv\", sep=\"\\t\")\n",
    "    print(len(train_set))\n",
    "\n",
    "    df_origin = train_set.sample(n=n+m, replace=False, random_state=seed)\n",
    "    df_n = df_origin.sample(n=n, replace=False, random_state=seed)\n",
    "    df_seed = df_n.sample(n=m, replace=False, random_state=seed)\n",
    "\n",
    "    print(f\"len origin: {len(df_origin)}\")\n",
    "    print(f\"len n_data: {len(df_n)}\")\n",
    "    print(f\"len seed: {len(df_seed)}\")\n",
    "\n",
    "    df_origin = trainset.sample(n=n+m, replace=False, random_state=seed)\n",
    "    df_n = df_origin.sample(n=n, replace=False, random_state=seed)\n",
    "    df_seed = df_n.sample(n=m, replace=False, random_state=seed)\n",
    "\n",
    "    print(f\"len origin: {len(df_origin)}\")\n",
    "    print(f\"len n_data: {len(df_n)}\")\n",
    "    print(f\"len seed: {len(df_seed)}\")\n",
    "\n",
    "    df_seed[\"label_counter\"] = [int(not el) for el in df_seed[\"labels\"]]\n",
    "    df_seed[\"sentiment_counter\"] = [\"positive\" if x==\"negative\" else \"negative\" for x in df_seed[\"sentiment\"]]\n",
    "    df_seed.rename(columns={\"labels\": \"label_ex\",\n",
    "                            \"text\": \"example\",\n",
    "                            \"sentiment\": \"sentiment_ex\"}, inplace=True)\n",
    "\n",
    "    df_seed[\"paired_id\"] = [i for i in range(len(df_seed))]\n",
    "    df_seed[\"counterfactual\"] = [\"None\" for i in range(len(df_seed))]\n",
    "\n",
    "    df_origin.to_csv(f\"../amazon/{out_dir}/origin_data.csv\", sep=\"\\t\", index=False)\n",
    "    df_n.to_csv(f\"../amazon/{out_dir}/n_data.csv\", sep=\"\\t\", index=False)\n",
    "    df_seed.to_csv(f\"../amazon/{out_dir}/seed_data.csv\", sep=\"\\t\", index=False)"
   ],
   "metadata": {
    "collapsed": false
   }
  },
  {
   "cell_type": "code",
   "execution_count": 34,
   "outputs": [],
   "source": [],
   "metadata": {
    "collapsed": false
   }
  },
  {
   "cell_type": "markdown",
   "source": [
    "## n=5k & m=2.5k (n=2m)"
   ],
   "metadata": {
    "collapsed": false
   }
  },
  {
   "cell_type": "code",
   "execution_count": 35,
   "outputs": [
    {
     "name": "stdout",
     "output_type": "stream",
     "text": [
      "7500\n",
      "len origin: 7500\n",
      "len n_data: 5000\n",
      "len seed: 2500\n",
      "len origin: 7500\n",
      "len n_data: 5000\n",
      "len seed: 2500\n"
     ]
    }
   ],
   "source": [
    "produce_datasets(5000, 2500, \"tr2\")"
   ],
   "metadata": {
    "collapsed": false
   }
  },
  {
   "cell_type": "code",
   "execution_count": 36,
   "outputs": [
    {
     "name": "stdout",
     "output_type": "stream",
     "text": [
      "7500\n",
      "len origin: 3000\n",
      "len n_data: 2000\n",
      "len seed: 1000\n",
      "len origin: 3000\n",
      "len n_data: 2000\n",
      "len seed: 1000\n"
     ]
    }
   ],
   "source": [
    "produce_datasets(2000, 1000, \"tr1\")"
   ],
   "metadata": {
    "collapsed": false
   }
  },
  {
   "cell_type": "code",
   "execution_count": 37,
   "outputs": [
    {
     "name": "stdout",
     "output_type": "stream",
     "text": [
      "7500\n",
      "len origin: 6000\n",
      "len n_data: 3000\n",
      "len seed: 3000\n",
      "len origin: 6000\n",
      "len n_data: 3000\n",
      "len seed: 3000\n"
     ]
    }
   ],
   "source": [
    "produce_datasets(3000, 3000, \"tr3\")"
   ],
   "metadata": {
    "collapsed": false
   }
  },
  {
   "cell_type": "code",
   "execution_count": 7,
   "outputs": [
    {
     "name": "stderr",
     "output_type": "stream",
     "text": [
      "Using the latest cached version of the module from /home/diego/.cache/huggingface/modules/datasets_modules/datasets/amazon_polarity/56923eeb72030cb6c4ea30c8a4e1162c26b25973475ac1f44340f0ec0f2936f4 (last modified on Wed Dec 28 12:02:03 2022) since it couldn't be found locally at amazon_polarity., or remotely on the Hugging Face Hub.\n"
     ]
    },
    {
     "name": "stdout",
     "output_type": "stream",
     "text": [
      "Downloading and preparing dataset amazon_polarity/amazon_polarity (download: 656.45 MiB, generated: 1.66 GiB, post-processed: Unknown size, total: 2.30 GiB) to /home/diego/.cache/huggingface/datasets/amazon_polarity/amazon_polarity/3.0.0/56923eeb72030cb6c4ea30c8a4e1162c26b25973475ac1f44340f0ec0f2936f4...\n"
     ]
    },
    {
     "ename": "NonMatchingChecksumError",
     "evalue": "Checksums didn't match for dataset source files:\n['https://drive.google.com/u/0/uc?id=0Bz8a_Dbh9QhbaW12WVVZS2drcnM&export=download']",
     "output_type": "error",
     "traceback": [
      "\u001B[0;31m---------------------------------------------------------------------------\u001B[0m",
      "\u001B[0;31mNonMatchingChecksumError\u001B[0m                  Traceback (most recent call last)",
      "Cell \u001B[0;32mIn[7], line 1\u001B[0m\n\u001B[0;32m----> 1\u001B[0m aaaa \u001B[38;5;241m=\u001B[39m \u001B[43mload_dataset\u001B[49m\u001B[43m(\u001B[49m\u001B[38;5;124;43m\"\u001B[39;49m\u001B[38;5;124;43mamazon_polarity\u001B[39;49m\u001B[38;5;124;43m\"\u001B[39;49m\u001B[43m,\u001B[49m\u001B[43m \u001B[49m\u001B[43mrevision\u001B[49m\u001B[38;5;241;43m=\u001B[39;49m\u001B[38;5;124;43m\"\u001B[39;49m\u001B[38;5;124;43mrefs/convert/parquet\u001B[39;49m\u001B[38;5;124;43m\"\u001B[39;49m\u001B[43m)\u001B[49m\n",
      "File \u001B[0;32m~/miniconda3/envs/deeep3.9/lib/python3.9/site-packages/datasets/load.py:1694\u001B[0m, in \u001B[0;36mload_dataset\u001B[0;34m(path, name, data_dir, data_files, split, cache_dir, features, download_config, download_mode, ignore_verifications, keep_in_memory, save_infos, revision, use_auth_token, task, streaming, script_version, **config_kwargs)\u001B[0m\n\u001B[1;32m   1691\u001B[0m try_from_hf_gcs \u001B[38;5;241m=\u001B[39m path \u001B[38;5;129;01mnot\u001B[39;00m \u001B[38;5;129;01min\u001B[39;00m _PACKAGED_DATASETS_MODULES\n\u001B[1;32m   1693\u001B[0m \u001B[38;5;66;03m# Download and prepare data\u001B[39;00m\n\u001B[0;32m-> 1694\u001B[0m \u001B[43mbuilder_instance\u001B[49m\u001B[38;5;241;43m.\u001B[39;49m\u001B[43mdownload_and_prepare\u001B[49m\u001B[43m(\u001B[49m\n\u001B[1;32m   1695\u001B[0m \u001B[43m    \u001B[49m\u001B[43mdownload_config\u001B[49m\u001B[38;5;241;43m=\u001B[39;49m\u001B[43mdownload_config\u001B[49m\u001B[43m,\u001B[49m\n\u001B[1;32m   1696\u001B[0m \u001B[43m    \u001B[49m\u001B[43mdownload_mode\u001B[49m\u001B[38;5;241;43m=\u001B[39;49m\u001B[43mdownload_mode\u001B[49m\u001B[43m,\u001B[49m\n\u001B[1;32m   1697\u001B[0m \u001B[43m    \u001B[49m\u001B[43mignore_verifications\u001B[49m\u001B[38;5;241;43m=\u001B[39;49m\u001B[43mignore_verifications\u001B[49m\u001B[43m,\u001B[49m\n\u001B[1;32m   1698\u001B[0m \u001B[43m    \u001B[49m\u001B[43mtry_from_hf_gcs\u001B[49m\u001B[38;5;241;43m=\u001B[39;49m\u001B[43mtry_from_hf_gcs\u001B[49m\u001B[43m,\u001B[49m\n\u001B[1;32m   1699\u001B[0m \u001B[43m    \u001B[49m\u001B[43muse_auth_token\u001B[49m\u001B[38;5;241;43m=\u001B[39;49m\u001B[43muse_auth_token\u001B[49m\u001B[43m,\u001B[49m\n\u001B[1;32m   1700\u001B[0m \u001B[43m\u001B[49m\u001B[43m)\u001B[49m\n\u001B[1;32m   1702\u001B[0m \u001B[38;5;66;03m# Build dataset for splits\u001B[39;00m\n\u001B[1;32m   1703\u001B[0m keep_in_memory \u001B[38;5;241m=\u001B[39m (\n\u001B[1;32m   1704\u001B[0m     keep_in_memory \u001B[38;5;28;01mif\u001B[39;00m keep_in_memory \u001B[38;5;129;01mis\u001B[39;00m \u001B[38;5;129;01mnot\u001B[39;00m \u001B[38;5;28;01mNone\u001B[39;00m \u001B[38;5;28;01melse\u001B[39;00m is_small_dataset(builder_instance\u001B[38;5;241m.\u001B[39minfo\u001B[38;5;241m.\u001B[39mdataset_size)\n\u001B[1;32m   1705\u001B[0m )\n",
      "File \u001B[0;32m~/miniconda3/envs/deeep3.9/lib/python3.9/site-packages/datasets/builder.py:595\u001B[0m, in \u001B[0;36mDatasetBuilder.download_and_prepare\u001B[0;34m(self, download_config, download_mode, ignore_verifications, try_from_hf_gcs, dl_manager, base_path, use_auth_token, **download_and_prepare_kwargs)\u001B[0m\n\u001B[1;32m    593\u001B[0m         logger\u001B[38;5;241m.\u001B[39mwarning(\u001B[38;5;124m\"\u001B[39m\u001B[38;5;124mHF google storage unreachable. Downloading and preparing it from source\u001B[39m\u001B[38;5;124m\"\u001B[39m)\n\u001B[1;32m    594\u001B[0m \u001B[38;5;28;01mif\u001B[39;00m \u001B[38;5;129;01mnot\u001B[39;00m downloaded_from_gcs:\n\u001B[0;32m--> 595\u001B[0m     \u001B[38;5;28;43mself\u001B[39;49m\u001B[38;5;241;43m.\u001B[39;49m\u001B[43m_download_and_prepare\u001B[49m\u001B[43m(\u001B[49m\n\u001B[1;32m    596\u001B[0m \u001B[43m        \u001B[49m\u001B[43mdl_manager\u001B[49m\u001B[38;5;241;43m=\u001B[39;49m\u001B[43mdl_manager\u001B[49m\u001B[43m,\u001B[49m\u001B[43m \u001B[49m\u001B[43mverify_infos\u001B[49m\u001B[38;5;241;43m=\u001B[39;49m\u001B[43mverify_infos\u001B[49m\u001B[43m,\u001B[49m\u001B[43m \u001B[49m\u001B[38;5;241;43m*\u001B[39;49m\u001B[38;5;241;43m*\u001B[39;49m\u001B[43mdownload_and_prepare_kwargs\u001B[49m\n\u001B[1;32m    597\u001B[0m \u001B[43m    \u001B[49m\u001B[43m)\u001B[49m\n\u001B[1;32m    598\u001B[0m \u001B[38;5;66;03m# Sync info\u001B[39;00m\n\u001B[1;32m    599\u001B[0m \u001B[38;5;28mself\u001B[39m\u001B[38;5;241m.\u001B[39minfo\u001B[38;5;241m.\u001B[39mdataset_size \u001B[38;5;241m=\u001B[39m \u001B[38;5;28msum\u001B[39m(split\u001B[38;5;241m.\u001B[39mnum_bytes \u001B[38;5;28;01mfor\u001B[39;00m split \u001B[38;5;129;01min\u001B[39;00m \u001B[38;5;28mself\u001B[39m\u001B[38;5;241m.\u001B[39minfo\u001B[38;5;241m.\u001B[39msplits\u001B[38;5;241m.\u001B[39mvalues())\n",
      "File \u001B[0;32m~/miniconda3/envs/deeep3.9/lib/python3.9/site-packages/datasets/builder.py:666\u001B[0m, in \u001B[0;36mDatasetBuilder._download_and_prepare\u001B[0;34m(self, dl_manager, verify_infos, **prepare_split_kwargs)\u001B[0m\n\u001B[1;32m    664\u001B[0m \u001B[38;5;66;03m# Checksums verification\u001B[39;00m\n\u001B[1;32m    665\u001B[0m \u001B[38;5;28;01mif\u001B[39;00m verify_infos:\n\u001B[0;32m--> 666\u001B[0m     \u001B[43mverify_checksums\u001B[49m\u001B[43m(\u001B[49m\n\u001B[1;32m    667\u001B[0m \u001B[43m        \u001B[49m\u001B[38;5;28;43mself\u001B[39;49m\u001B[38;5;241;43m.\u001B[39;49m\u001B[43minfo\u001B[49m\u001B[38;5;241;43m.\u001B[39;49m\u001B[43mdownload_checksums\u001B[49m\u001B[43m,\u001B[49m\u001B[43m \u001B[49m\u001B[43mdl_manager\u001B[49m\u001B[38;5;241;43m.\u001B[39;49m\u001B[43mget_recorded_sizes_checksums\u001B[49m\u001B[43m(\u001B[49m\u001B[43m)\u001B[49m\u001B[43m,\u001B[49m\u001B[43m \u001B[49m\u001B[38;5;124;43m\"\u001B[39;49m\u001B[38;5;124;43mdataset source files\u001B[39;49m\u001B[38;5;124;43m\"\u001B[39;49m\n\u001B[1;32m    668\u001B[0m \u001B[43m    \u001B[49m\u001B[43m)\u001B[49m\n\u001B[1;32m    670\u001B[0m \u001B[38;5;66;03m# Build splits\u001B[39;00m\n\u001B[1;32m    671\u001B[0m \u001B[38;5;28;01mfor\u001B[39;00m split_generator \u001B[38;5;129;01min\u001B[39;00m split_generators:\n",
      "File \u001B[0;32m~/miniconda3/envs/deeep3.9/lib/python3.9/site-packages/datasets/utils/info_utils.py:40\u001B[0m, in \u001B[0;36mverify_checksums\u001B[0;34m(expected_checksums, recorded_checksums, verification_name)\u001B[0m\n\u001B[1;32m     38\u001B[0m \u001B[38;5;28;01mif\u001B[39;00m \u001B[38;5;28mlen\u001B[39m(bad_urls) \u001B[38;5;241m>\u001B[39m \u001B[38;5;241m0\u001B[39m:\n\u001B[1;32m     39\u001B[0m     error_msg \u001B[38;5;241m=\u001B[39m \u001B[38;5;124m\"\u001B[39m\u001B[38;5;124mChecksums didn\u001B[39m\u001B[38;5;124m'\u001B[39m\u001B[38;5;124mt match\u001B[39m\u001B[38;5;124m\"\u001B[39m \u001B[38;5;241m+\u001B[39m for_verification_name \u001B[38;5;241m+\u001B[39m \u001B[38;5;124m\"\u001B[39m\u001B[38;5;124m:\u001B[39m\u001B[38;5;130;01m\\n\u001B[39;00m\u001B[38;5;124m\"\u001B[39m\n\u001B[0;32m---> 40\u001B[0m     \u001B[38;5;28;01mraise\u001B[39;00m NonMatchingChecksumError(error_msg \u001B[38;5;241m+\u001B[39m \u001B[38;5;28mstr\u001B[39m(bad_urls))\n\u001B[1;32m     41\u001B[0m logger\u001B[38;5;241m.\u001B[39minfo(\u001B[38;5;124m\"\u001B[39m\u001B[38;5;124mAll the checksums matched successfully\u001B[39m\u001B[38;5;124m\"\u001B[39m \u001B[38;5;241m+\u001B[39m for_verification_name)\n",
      "\u001B[0;31mNonMatchingChecksumError\u001B[0m: Checksums didn't match for dataset source files:\n['https://drive.google.com/u/0/uc?id=0Bz8a_Dbh9QhbaW12WVVZS2drcnM&export=download']"
     ]
    }
   ],
   "source": [
    "aaaa = load_dataset(\"amazon_polarity\", revision=\"refs/convert/parquet\")"
   ],
   "metadata": {
    "collapsed": false
   }
  },
  {
   "cell_type": "code",
   "execution_count": null,
   "outputs": [],
   "source": [],
   "metadata": {
    "collapsed": false
   }
  }
 ],
 "metadata": {
  "kernelspec": {
   "display_name": "Python 3",
   "language": "python",
   "name": "python3"
  },
  "language_info": {
   "codemirror_mode": {
    "name": "ipython",
    "version": 2
   },
   "file_extension": ".py",
   "mimetype": "text/x-python",
   "name": "python",
   "nbconvert_exporter": "python",
   "pygments_lexer": "ipython2",
   "version": "2.7.6"
  }
 },
 "nbformat": 4,
 "nbformat_minor": 0
}
