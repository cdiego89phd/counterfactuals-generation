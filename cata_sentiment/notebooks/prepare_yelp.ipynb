{
 "cells": [
  {
   "cell_type": "code",
   "execution_count": 110,
   "metadata": {
    "collapsed": true
   },
   "outputs": [],
   "source": [
    "import pandas as pd\n",
    "import numpy as np"
   ]
  },
  {
   "cell_type": "code",
   "execution_count": 110,
   "outputs": [],
   "source": [],
   "metadata": {
    "collapsed": false
   }
  },
  {
   "cell_type": "markdown",
   "source": [
    "<h1>YELP restaurants</h1>"
   ],
   "metadata": {
    "collapsed": false
   }
  },
  {
   "cell_type": "code",
   "execution_count": 111,
   "outputs": [
    {
     "name": "stderr",
     "output_type": "stream",
     "text": [
      "Reusing dataset yelp_polarity (/home/diego/.cache/huggingface/datasets/yelp_polarity/plain_text/1.0.0/a770787b2526bdcbfc29ac2d9beb8e820fbc15a03afd3ebc4fb9d8529de57544)\n"
     ]
    },
    {
     "data": {
      "text/plain": "  0%|          | 0/2 [00:00<?, ?it/s]",
      "application/vnd.jupyter.widget-view+json": {
       "version_major": 2,
       "version_minor": 0,
       "model_id": "86bb66254b2b4d47a5f0ce92787b4319"
      }
     },
     "metadata": {},
     "output_type": "display_data"
    }
   ],
   "source": [
    "from datasets import load_dataset\n",
    "\n",
    "yelp_data = load_dataset(\"yelp_polarity\")"
   ],
   "metadata": {
    "collapsed": false
   }
  },
  {
   "cell_type": "code",
   "execution_count": 112,
   "outputs": [
    {
     "name": "stdout",
     "output_type": "stream",
     "text": [
      "Total length of polarity yelp test 38000\n",
      "\n"
     ]
    },
    {
     "data": {
      "text/plain": "                                                text  label sentiment\n0  Contrary to other reviews, I have zero complai...      1  positive\n1  Last summer I had an appointment to get new ti...      0  negative",
      "text/html": "<div>\n<style scoped>\n    .dataframe tbody tr th:only-of-type {\n        vertical-align: middle;\n    }\n\n    .dataframe tbody tr th {\n        vertical-align: top;\n    }\n\n    .dataframe thead th {\n        text-align: right;\n    }\n</style>\n<table border=\"1\" class=\"dataframe\">\n  <thead>\n    <tr style=\"text-align: right;\">\n      <th></th>\n      <th>text</th>\n      <th>label</th>\n      <th>sentiment</th>\n    </tr>\n  </thead>\n  <tbody>\n    <tr>\n      <th>0</th>\n      <td>Contrary to other reviews, I have zero complai...</td>\n      <td>1</td>\n      <td>positive</td>\n    </tr>\n    <tr>\n      <th>1</th>\n      <td>Last summer I had an appointment to get new ti...</td>\n      <td>0</td>\n      <td>negative</td>\n    </tr>\n  </tbody>\n</table>\n</div>"
     },
     "execution_count": 112,
     "metadata": {},
     "output_type": "execute_result"
    }
   ],
   "source": [
    "print(f\"Total length of polarity yelp test {len(yelp_data['test'])}\")\n",
    "print(\"\")\n",
    "\n",
    "texts = yelp_data[\"test\"][\"text\"]\n",
    "labels = yelp_data[\"test\"][\"label\"]\n",
    "\n",
    "d = {\"text\": texts,\n",
    "     \"label\": labels,\n",
    "}\n",
    "\n",
    "df_yelp = pd.DataFrame(data=d)\n",
    "df_yelp[\"sentiment\"] = df_yelp.apply(lambda row: \"positive\" if row['label'] else \"negative\", axis=1)\n",
    "df_yelp.head(2)"
   ],
   "metadata": {
    "collapsed": false
   }
  },
  {
   "cell_type": "code",
   "execution_count": 113,
   "outputs": [
    {
     "name": "stdout",
     "output_type": "stream",
     "text": [
      "Max len: 1053\n",
      "Mean len: 135.18473684210525\n",
      "Min len: 1\n"
     ]
    },
    {
     "data": {
      "text/plain": "positive    19000\nnegative    19000\nName: sentiment, dtype: int64"
     },
     "execution_count": 113,
     "metadata": {},
     "output_type": "execute_result"
    }
   ],
   "source": [
    "texts = df_yelp[\"text\"].values\n",
    "lens = [len(el.split(\" \")) for el in texts]\n",
    "print(f\"Max len: {np.max(lens)}\")\n",
    "print(f\"Mean len: {np.mean(lens)}\")\n",
    "print(f\"Min len: {np.min(lens)}\")\n",
    "\n",
    "df_yelp[\"sentiment\"].value_counts()"
   ],
   "metadata": {
    "collapsed": false
   }
  },
  {
   "cell_type": "code",
   "execution_count": 114,
   "outputs": [
    {
     "name": "stdout",
     "output_type": "stream",
     "text": [
      "Max len: 5107\n",
      "Mean len: 735.9356773692526\n",
      "Min len: 39\n"
     ]
    },
    {
     "data": {
      "text/plain": "0    18770\n1    18573\nName: label, dtype: int64"
     },
     "execution_count": 114,
     "metadata": {},
     "output_type": "execute_result"
    }
   ],
   "source": [
    "# filter out reviews longer than 2000 and shorter than 10 words\n",
    "texts = df_yelp[\"text\"].values\n",
    "df_yelp[\"review_len\"] = [len(el.split(\" \")) for el in texts]\n",
    "df_yelp = df_yelp[(df_yelp[\"review_len\"] <= 2000) & (df_yelp[\"review_len\"] >= 10)].copy()\n",
    "\n",
    "lens = [len(el) for el in df_yelp[\"text\"].values]\n",
    "print(f\"Max len: {np.max(lens)}\")\n",
    "print(f\"Mean len: {np.mean(lens)}\")\n",
    "print(f\"Min len: {np.min(lens)}\")\n",
    "\n",
    "df_yelp[\"label\"].value_counts()"
   ],
   "metadata": {
    "collapsed": false
   }
  },
  {
   "cell_type": "code",
   "execution_count": 115,
   "outputs": [
    {
     "data": {
      "text/plain": "                                             example  label_ex sentiment_ex  \\\n0  Contrary to other reviews, I have zero complai...         1     positive   \n1  Last summer I had an appointment to get new ti...         0     negative   \n\n   review_len  label_counter sentiment_counter  \n0         126              0          negative  \n1          72              1          positive  ",
      "text/html": "<div>\n<style scoped>\n    .dataframe tbody tr th:only-of-type {\n        vertical-align: middle;\n    }\n\n    .dataframe tbody tr th {\n        vertical-align: top;\n    }\n\n    .dataframe thead th {\n        text-align: right;\n    }\n</style>\n<table border=\"1\" class=\"dataframe\">\n  <thead>\n    <tr style=\"text-align: right;\">\n      <th></th>\n      <th>example</th>\n      <th>label_ex</th>\n      <th>sentiment_ex</th>\n      <th>review_len</th>\n      <th>label_counter</th>\n      <th>sentiment_counter</th>\n    </tr>\n  </thead>\n  <tbody>\n    <tr>\n      <th>0</th>\n      <td>Contrary to other reviews, I have zero complai...</td>\n      <td>1</td>\n      <td>positive</td>\n      <td>126</td>\n      <td>0</td>\n      <td>negative</td>\n    </tr>\n    <tr>\n      <th>1</th>\n      <td>Last summer I had an appointment to get new ti...</td>\n      <td>0</td>\n      <td>negative</td>\n      <td>72</td>\n      <td>1</td>\n      <td>positive</td>\n    </tr>\n  </tbody>\n</table>\n</div>"
     },
     "execution_count": 115,
     "metadata": {},
     "output_type": "execute_result"
    }
   ],
   "source": [
    "df_yelp[\"label_counter\"] = [int(not el) for el in df_yelp[\"label\"]]\n",
    "df_yelp[\"sentiment_counter\"] = [\"positive\" if x==\"negative\" else \"negative\" for x in df_yelp[\"sentiment\"]]\n",
    "df_yelp.rename(columns={\"label\": \"label_ex\",\n",
    "                        \"text\": \"example\",\n",
    "                        \"sentiment\": \"sentiment_ex\"}, inplace=True)\n",
    "df_yelp.head(2)"
   ],
   "metadata": {
    "collapsed": false
   }
  },
  {
   "cell_type": "code",
   "execution_count": 116,
   "outputs": [],
   "source": [
    "df_pos = df_yelp[df_yelp[\"label_ex\"] == 1].copy()\n",
    "df_neg = df_yelp[df_yelp[\"label_ex\"] == 0].copy()"
   ],
   "metadata": {
    "collapsed": false
   }
  },
  {
   "cell_type": "markdown",
   "source": [
    "## Sample 10k instances - 5k positive, 5k negative. Train-test split 80%-20%"
   ],
   "metadata": {
    "collapsed": false
   }
  },
  {
   "cell_type": "code",
   "execution_count": 117,
   "outputs": [
    {
     "name": "stdout",
     "output_type": "stream",
     "text": [
      "\n",
      "len test: 2000\n",
      "len train: 8000\n"
     ]
    }
   ],
   "source": [
    "seed = 2023\n",
    "# sample positive and negative labels\n",
    "data_pos = df_pos.sample(n=5000, replace=False, random_state=seed)\n",
    "data_neg = df_neg.sample(n=5000, replace=False, random_state=seed)\n",
    "\n",
    "# sample train-test split positive labels (80-20)%\n",
    "test_pos = data_pos.sample(frac=0.2, replace=False, random_state=seed)\n",
    "train_pos = data_pos[~data_pos.index.isin(test_pos.index)]\n",
    "\n",
    "# sample train-test split negative labels (80-20)%\n",
    "test_neg = data_neg.sample(frac=0.2, replace=False, random_state=seed)\n",
    "train_neg = data_neg[~data_neg.index.isin(test_neg.index)]\n",
    "\n",
    "# build train and test\n",
    "testset = test_neg.append(test_pos)\n",
    "trainset = train_neg.append(train_pos)\n",
    "\n",
    "print()\n",
    "print(f\"len test: {len(testset)}\")\n",
    "print(f\"len train: {len(trainset)}\")"
   ],
   "metadata": {
    "collapsed": false
   }
  },
  {
   "cell_type": "code",
   "execution_count": 118,
   "outputs": [],
   "source": [
    "testset.to_csv(\"../yelp/test.csv\", sep=\"\\t\", index=False)\n",
    "trainset.to_csv(\"../yelp/train.csv\", sep=\"\\t\", index=False)"
   ],
   "metadata": {
    "collapsed": false
   }
  },
  {
   "cell_type": "code",
   "execution_count": 118,
   "outputs": [],
   "source": [],
   "metadata": {
    "collapsed": false
   }
  },
  {
   "cell_type": "code",
   "execution_count": 119,
   "outputs": [],
   "source": [
    "def produce_datasets(n, m, out_dir):\n",
    "     train_set = pd.read_csv(\"../yelp/train.csv\", sep=\"\\t\")\n",
    "     print(len(train_set))\n",
    "\n",
    "     df_origin = train_set.sample(n=n+m, replace=False, random_state=seed)\n",
    "     df_n = df_origin.sample(n=n, replace=False, random_state=seed)\n",
    "     df_seed = df_n.sample(n=m, replace=False, random_state=seed)\n",
    "\n",
    "     print(f\"len origin: {len(df_origin)}\")\n",
    "     print(f\"len n_data: {len(df_n)}\")\n",
    "     print(f\"len seed: {len(df_seed)}\")\n",
    "\n",
    "     df_origin = trainset.sample(n=n+m, replace=False, random_state=seed)\n",
    "     df_n = df_origin.sample(n=n, replace=False, random_state=seed)\n",
    "     df_seed = df_n.sample(n=m, replace=False, random_state=seed)\n",
    "\n",
    "     print(f\"len origin: {len(df_origin)}\")\n",
    "     print(f\"len n_data: {len(df_n)}\")\n",
    "     print(f\"len seed: {len(df_seed)}\")\n",
    "\n",
    "     df_seed[\"paired_id\"] = [i for i in range(len(df_seed))]\n",
    "     df_seed[\"counterfactual\"] = [\"None\" for i in range(len(df_seed))]\n",
    "\n",
    "     df_origin.to_csv(f\"../yelp/{out_dir}/origin_data.csv\", sep=\"\\t\", index=False)\n",
    "     df_n.to_csv(f\"../yelp/{out_dir}/n_data.csv\", sep=\"\\t\", index=False)\n",
    "     df_seed.to_csv(f\"../yelp/{out_dir}/seed_data.csv\", sep=\"\\t\", index=False)"
   ],
   "metadata": {
    "collapsed": false
   }
  },
  {
   "cell_type": "code",
   "execution_count": 119,
   "outputs": [],
   "source": [],
   "metadata": {
    "collapsed": false
   }
  },
  {
   "cell_type": "markdown",
   "source": [
    "## n=5k & m=2.5k (n=2m)"
   ],
   "metadata": {
    "collapsed": false
   }
  },
  {
   "cell_type": "code",
   "execution_count": 120,
   "outputs": [
    {
     "name": "stdout",
     "output_type": "stream",
     "text": [
      "8000\n",
      "len origin: 7500\n",
      "len n_data: 5000\n",
      "len seed: 2500\n",
      "len origin: 7500\n",
      "len n_data: 5000\n",
      "len seed: 2500\n"
     ]
    }
   ],
   "source": [
    "produce_datasets(5000, 2500, \"n_5k-m_2.5k\")"
   ],
   "metadata": {
    "collapsed": false
   }
  },
  {
   "cell_type": "code",
   "execution_count": 121,
   "outputs": [
    {
     "name": "stdout",
     "output_type": "stream",
     "text": [
      "8000\n",
      "len origin: 3000\n",
      "len n_data: 2000\n",
      "len seed: 1000\n",
      "len origin: 3000\n",
      "len n_data: 2000\n",
      "len seed: 1000\n"
     ]
    }
   ],
   "source": [
    "produce_datasets(2000, 1000, \"n_2k-m_1k\")"
   ],
   "metadata": {
    "collapsed": false
   }
  },
  {
   "cell_type": "markdown",
   "source": [
    "The final size of each training set will be m+m+m=2m+m=n+m. The following sets are sampled from train.csv\n",
    "\n",
    "- origin.csv stores n+m original data points\n",
    "- m_data.csv\n",
    "- seed_data.csv is a sample (size m) from n_data\n",
    "\n",
    "You now need to produce m countefactuals from seed_data!! You will then use n_data.csv and m generated counterfactuals to train your classfier"
   ],
   "metadata": {
    "collapsed": false
   }
  },
  {
   "cell_type": "code",
   "execution_count": null,
   "outputs": [],
   "source": [],
   "metadata": {
    "collapsed": false
   }
  }
 ],
 "metadata": {
  "kernelspec": {
   "display_name": "Python 3",
   "language": "python",
   "name": "python3"
  },
  "language_info": {
   "codemirror_mode": {
    "name": "ipython",
    "version": 2
   },
   "file_extension": ".py",
   "mimetype": "text/x-python",
   "name": "python",
   "nbconvert_exporter": "python",
   "pygments_lexer": "ipython2",
   "version": "2.7.6"
  }
 },
 "nbformat": 4,
 "nbformat_minor": 0
}
