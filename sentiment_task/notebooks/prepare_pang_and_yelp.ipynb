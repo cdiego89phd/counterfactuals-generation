{
 "cells": [
  {
   "cell_type": "code",
   "execution_count": 1,
   "metadata": {
    "collapsed": true
   },
   "outputs": [],
   "source": [
    "from sklearn.datasets import load_files\n",
    "import pandas as pd\n",
    "import bs4\n",
    "import numpy as np"
   ]
  },
  {
   "cell_type": "markdown",
   "source": [
    "First, get some stats about cad_imdb, which was used to build our generator"
   ],
   "metadata": {
    "collapsed": false
   }
  },
  {
   "cell_type": "code",
   "execution_count": 2,
   "outputs": [
    {
     "name": "stdout",
     "output_type": "stream",
     "text": [
      "Max len: 1955\n",
      "Mean len: 901.0530440024111\n",
      "Min len: 80\n"
     ]
    }
   ],
   "source": [
    "df_cad = pd.read_csv(\"../cad_imdb/fold_0/training_set\", sep=\"\\t\")\n",
    "cad_texts = df_cad[\"example\"].values\n",
    "lens = [len(el) for el in cad_texts]\n",
    "print(f\"Max len: {np.max(lens)}\")\n",
    "print(f\"Mean len: {np.mean(lens)}\")\n",
    "print(f\"Min len: {np.min(lens)}\")"
   ],
   "metadata": {
    "collapsed": false
   }
  },
  {
   "cell_type": "code",
   "execution_count": 2,
   "outputs": [],
   "source": [],
   "metadata": {
    "collapsed": false
   }
  },
  {
   "cell_type": "markdown",
   "source": [
    "<h1>Pang Imdb (1000 pos reviews; 1000 negative reviews)</h1>"
   ],
   "metadata": {
    "collapsed": false
   }
  },
  {
   "cell_type": "markdown",
   "source": [
    "We can't really filter out the few reviews we have. We keep the dataset as it is, admitting that reviews are in general longer than the ones in CAD imdb (used to train the generator)"
   ],
   "metadata": {
    "collapsed": false
   }
  },
  {
   "cell_type": "code",
   "execution_count": 3,
   "outputs": [],
   "source": [
    "movie_data = load_files('../imdb_pang')\n",
    "\n",
    "# Remove HTML from reviews\n",
    "reviews = [bs4.BeautifulSoup(r, features=\"lxml\").get_text() for r in movie_data.data]"
   ],
   "metadata": {
    "collapsed": false
   }
  },
  {
   "cell_type": "code",
   "execution_count": 4,
   "outputs": [
    {
     "name": "stdout",
     "output_type": "stream",
     "text": [
      "Max len: 14957\n",
      "Mean len: 3892.8675\n",
      "Min len: 91\n"
     ]
    },
    {
     "data": {
      "text/plain": "                                             example  label_ex  label_counter  \\\n0  arnold schwarzenegger has been an icon for act...         0              1   \n\n   paired_id counterfactual  \n0          0           None  ",
      "text/html": "<div>\n<style scoped>\n    .dataframe tbody tr th:only-of-type {\n        vertical-align: middle;\n    }\n\n    .dataframe tbody tr th {\n        vertical-align: top;\n    }\n\n    .dataframe thead th {\n        text-align: right;\n    }\n</style>\n<table border=\"1\" class=\"dataframe\">\n  <thead>\n    <tr style=\"text-align: right;\">\n      <th></th>\n      <th>example</th>\n      <th>label_ex</th>\n      <th>label_counter</th>\n      <th>paired_id</th>\n      <th>counterfactual</th>\n    </tr>\n  </thead>\n  <tbody>\n    <tr>\n      <th>0</th>\n      <td>arnold schwarzenegger has been an icon for act...</td>\n      <td>0</td>\n      <td>1</td>\n      <td>0</td>\n      <td>None</td>\n    </tr>\n  </tbody>\n</table>\n</div>"
     },
     "execution_count": 4,
     "metadata": {},
     "output_type": "execute_result"
    }
   ],
   "source": [
    "paired_id = [i for i in range(len(reviews))]\n",
    "counter = [\"None\" for i in range(len(reviews))] # this column makes the generation compliant\n",
    "\n",
    "d = {\"example\": reviews,\n",
    "     \"label_ex\": movie_data.target,\n",
    "     \"label_counter\": np.logical_not(movie_data.target).astype(int),\n",
    "     \"paired_id\": paired_id,\n",
    "     \"counterfactual\": counter\n",
    "     }\n",
    "df_reviews = pd.DataFrame(data=d)\n",
    "\n",
    "lens = [len(el) for el in df_reviews[\"example\"]]\n",
    "print(f\"Max len: {np.max(lens)}\")\n",
    "print(f\"Mean len: {np.mean(lens)}\")\n",
    "print(f\"Min len: {np.min(lens)}\")\n",
    "\n",
    "df_reviews.head(1)"
   ],
   "metadata": {
    "collapsed": false
   }
  },
  {
   "cell_type": "code",
   "execution_count": 5,
   "outputs": [
    {
     "name": "stdout",
     "output_type": "stream",
     "text": [
      "len positive df: 1000\n",
      "len negative df: 1000\n"
     ]
    }
   ],
   "source": [
    "# divide dataframe into positives and negatives\n",
    "df_pos = df_reviews[df_reviews[\"label_ex\"] == 1].copy()\n",
    "df_neg = df_reviews[df_reviews[\"label_ex\"] == 0].copy()\n",
    "print(f\"len positive df: {len(df_pos)}\")\n",
    "print(f\"len negative df: {len(df_neg)}\")"
   ],
   "metadata": {
    "collapsed": false
   }
  },
  {
   "cell_type": "code",
   "execution_count": 6,
   "outputs": [
    {
     "name": "stdout",
     "output_type": "stream",
     "text": [
      "len positive test: 250\n",
      "len positive train: 750\n",
      "\n",
      "len negative test: 250\n",
      "len negative train: 750\n",
      "\n",
      "len test: 500\n",
      "len train: 1500\n"
     ]
    }
   ],
   "source": [
    "seed = 2022\n",
    "# sample balanced train-test split (75-25)%\n",
    "test_pos = df_pos.sample(frac=0.25, replace=False, random_state=seed)\n",
    "train_pos = df_pos[~df_pos.index.isin(test_pos.index)]\n",
    "print(f\"len positive test: {len(test_pos)}\")\n",
    "print(f\"len positive train: {len(train_pos)}\")\n",
    "\n",
    "print()\n",
    "\n",
    "# sample balanced train-test split (75-25)%\n",
    "test_neg = df_neg.sample(frac=0.25, replace=False, random_state=seed)\n",
    "train_neg = df_neg[~df_neg.index.isin(test_neg.index)]\n",
    "print(f\"len negative test: {len(test_neg)}\")\n",
    "print(f\"len negative train: {len(train_neg)}\")\n",
    "\n",
    "# build train and test\n",
    "testset = test_neg.append(test_pos)\n",
    "trainset = train_neg.append(train_pos)\n",
    "\n",
    "print()\n",
    "print(f\"len test: {len(testset)}\")\n",
    "print(f\"len train: {len(trainset)}\")"
   ],
   "metadata": {
    "collapsed": false
   }
  },
  {
   "cell_type": "code",
   "execution_count": 7,
   "outputs": [],
   "source": [
    "testset.to_csv(\"../imdb_pang/test.csv\", sep=\"\\t\", index=False)\n",
    "trainset.to_csv(\"../imdb_pang/train.csv\", sep=\"\\t\", index=False)"
   ],
   "metadata": {
    "collapsed": false
   }
  },
  {
   "cell_type": "code",
   "execution_count": 7,
   "outputs": [],
   "source": [],
   "metadata": {
    "collapsed": false
   }
  },
  {
   "cell_type": "markdown",
   "source": [
    "<h1>YELP restaurants</h1>"
   ],
   "metadata": {
    "collapsed": false
   }
  },
  {
   "cell_type": "code",
   "execution_count": 22,
   "outputs": [
    {
     "name": "stderr",
     "output_type": "stream",
     "text": [
      "Reusing dataset yelp_polarity (/home/diego/.cache/huggingface/datasets/yelp_polarity/plain_text/1.0.0/a770787b2526bdcbfc29ac2d9beb8e820fbc15a03afd3ebc4fb9d8529de57544)\n"
     ]
    },
    {
     "data": {
      "text/plain": "  0%|          | 0/2 [00:00<?, ?it/s]",
      "application/vnd.jupyter.widget-view+json": {
       "version_major": 2,
       "version_minor": 0,
       "model_id": "059f752647eb4b20a7f8bfc8c9d35ed0"
      }
     },
     "metadata": {},
     "output_type": "display_data"
    }
   ],
   "source": [
    "from datasets import load_dataset\n",
    "\n",
    "yelp_data = load_dataset(\"yelp_polarity\")"
   ],
   "metadata": {
    "collapsed": false
   }
  },
  {
   "cell_type": "code",
   "execution_count": 23,
   "outputs": [
    {
     "name": "stdout",
     "output_type": "stream",
     "text": [
      "Total length of polarity yelp test 38000\n",
      "\n"
     ]
    },
    {
     "data": {
      "text/plain": "                                             example  label_ex  label_counter  \\\n0  Contrary to other reviews, I have zero complai...         1              0   \n1  Last summer I had an appointment to get new ti...         0              1   \n\n   paired_id counterfactual  \n0          0           None  \n1          1           None  ",
      "text/html": "<div>\n<style scoped>\n    .dataframe tbody tr th:only-of-type {\n        vertical-align: middle;\n    }\n\n    .dataframe tbody tr th {\n        vertical-align: top;\n    }\n\n    .dataframe thead th {\n        text-align: right;\n    }\n</style>\n<table border=\"1\" class=\"dataframe\">\n  <thead>\n    <tr style=\"text-align: right;\">\n      <th></th>\n      <th>example</th>\n      <th>label_ex</th>\n      <th>label_counter</th>\n      <th>paired_id</th>\n      <th>counterfactual</th>\n    </tr>\n  </thead>\n  <tbody>\n    <tr>\n      <th>0</th>\n      <td>Contrary to other reviews, I have zero complai...</td>\n      <td>1</td>\n      <td>0</td>\n      <td>0</td>\n      <td>None</td>\n    </tr>\n    <tr>\n      <th>1</th>\n      <td>Last summer I had an appointment to get new ti...</td>\n      <td>0</td>\n      <td>1</td>\n      <td>1</td>\n      <td>None</td>\n    </tr>\n  </tbody>\n</table>\n</div>"
     },
     "execution_count": 23,
     "metadata": {},
     "output_type": "execute_result"
    }
   ],
   "source": [
    "print(f\"Total length of polarity yelp test {len(yelp_data['test'])}\")\n",
    "print(\"\")\n",
    "\n",
    "labels = yelp_data[\"test\"][\"label\"]\n",
    "texts = yelp_data[\"test\"][\"text\"]\n",
    "paired_id = [i for i in range(len(texts))]\n",
    "counter = [\"None\" for i in range(len(texts))] # this column makes the generation compliant\n",
    "\n",
    "d = {\"example\": texts,\n",
    "     \"label_ex\": labels,\n",
    "     \"label_counter\": np.logical_not(labels).astype(int),\n",
    "     \"paired_id\": paired_id,\n",
    "     \"counterfactual\": counter\n",
    "}\n",
    "df_yelp = pd.DataFrame(data=d)\n",
    "df_yelp.head(2)"
   ],
   "metadata": {
    "collapsed": false
   }
  },
  {
   "cell_type": "code",
   "execution_count": 24,
   "outputs": [
    {
     "name": "stdout",
     "output_type": "stream",
     "text": [
      "Max len: 5107\n",
      "Mean len: 723.8446578947369\n",
      "Min len: 4\n"
     ]
    },
    {
     "data": {
      "text/plain": "1    19000\n0    19000\nName: label_ex, dtype: int64"
     },
     "execution_count": 24,
     "metadata": {},
     "output_type": "execute_result"
    }
   ],
   "source": [
    "texts = df_yelp[\"example\"].values\n",
    "lens = [len(el) for el in texts]\n",
    "print(f\"Max len: {np.max(lens)}\")\n",
    "print(f\"Mean len: {np.mean(lens)}\")\n",
    "print(f\"Min len: {np.min(lens)}\")\n",
    "\n",
    "df_yelp[\"label_ex\"].value_counts()"
   ],
   "metadata": {
    "collapsed": false
   }
  },
  {
   "cell_type": "code",
   "execution_count": 25,
   "outputs": [
    {
     "name": "stdout",
     "output_type": "stream",
     "text": [
      "Max len: 2000\n",
      "Mean len: 613.4369834137682\n",
      "Min len: 4\n"
     ]
    },
    {
     "data": {
      "text/plain": "1    18359\n0    17695\nName: label_ex, dtype: int64"
     },
     "execution_count": 25,
     "metadata": {},
     "output_type": "execute_result"
    }
   ],
   "source": [
    "# filter out reviews longer than 2000\n",
    "texts = df_yelp[\"example\"].values\n",
    "df_yelp[\"review_len\"] = [len(el) for el in texts]\n",
    "df_yelp = df_yelp[df_yelp[\"review_len\"] <= 2000].copy()\n",
    "\n",
    "lens = [len(el) for el in df_yelp[\"example\"].values]\n",
    "print(f\"Max len: {np.max(lens)}\")\n",
    "print(f\"Mean len: {np.mean(lens)}\")\n",
    "print(f\"Min len: {np.min(lens)}\")\n",
    "\n",
    "df_yelp[\"label_ex\"].value_counts()"
   ],
   "metadata": {
    "collapsed": false
   }
  },
  {
   "cell_type": "code",
   "execution_count": 26,
   "outputs": [],
   "source": [
    "df_pos = df_yelp[df_yelp[\"label_ex\"] == 1].copy()\n",
    "df_neg = df_yelp[df_yelp[\"label_ex\"] == 0].copy()"
   ],
   "metadata": {
    "collapsed": false
   }
  },
  {
   "cell_type": "code",
   "execution_count": 27,
   "outputs": [
    {
     "name": "stdout",
     "output_type": "stream",
     "text": [
      "len positive test: 250\n",
      "len positive train: 18109\n",
      "\n",
      "len negative test: 250\n",
      "len negative train: 17445\n",
      "\n",
      "len test: 500\n",
      "len train: 35554\n"
     ]
    }
   ],
   "source": [
    "seed = 2022\n",
    "# sample positive labels\n",
    "test_pos = df_pos.sample(n=250, replace=False, random_state=seed)\n",
    "train_pos = df_pos[~df_pos.index.isin(test_pos.index)]\n",
    "print(f\"len positive test: {len(test_pos)}\")\n",
    "print(f\"len positive train: {len(train_pos)}\")\n",
    "\n",
    "print()\n",
    "\n",
    "# sample negative labels\n",
    "test_neg = df_neg.sample(n=250, replace=False, random_state=seed)\n",
    "train_neg = df_neg[~df_neg.index.isin(test_neg.index)]\n",
    "print(f\"len negative test: {len(test_neg)}\")\n",
    "print(f\"len negative train: {len(train_neg)}\")\n",
    "\n",
    "# build train and test\n",
    "testset = test_neg.append(test_pos)\n",
    "trainset = train_neg.append(train_pos)\n",
    "\n",
    "print()\n",
    "print(f\"len test: {len(testset)}\")\n",
    "print(f\"len train: {len(trainset)}\")"
   ],
   "metadata": {
    "collapsed": false
   }
  },
  {
   "cell_type": "code",
   "execution_count": 28,
   "outputs": [],
   "source": [
    "testset.to_csv(\"../yelp/test.csv\", sep=\"\\t\", index=False)\n",
    "trainset.to_csv(\"../yelp/train.csv\", sep=\"\\t\", index=False)"
   ],
   "metadata": {
    "collapsed": false
   }
  },
  {
   "cell_type": "code",
   "execution_count": null,
   "outputs": [],
   "source": [],
   "metadata": {
    "collapsed": false,
    "pycharm": {
     "is_executing": true
    }
   }
  },
  {
   "cell_type": "code",
   "execution_count": null,
   "outputs": [],
   "source": [],
   "metadata": {
    "collapsed": false
   }
  }
 ],
 "metadata": {
  "kernelspec": {
   "display_name": "Python 3",
   "language": "python",
   "name": "python3"
  },
  "language_info": {
   "codemirror_mode": {
    "name": "ipython",
    "version": 2
   },
   "file_extension": ".py",
   "mimetype": "text/x-python",
   "name": "python",
   "nbconvert_exporter": "python",
   "pygments_lexer": "ipython2",
   "version": "2.7.6"
  }
 },
 "nbformat": 4,
 "nbformat_minor": 0
}
