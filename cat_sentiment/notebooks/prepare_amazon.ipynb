{
 "cells": [
  {
   "cell_type": "code",
   "execution_count": 1,
   "metadata": {
    "collapsed": true
   },
   "outputs": [],
   "source": [
    "from datasets import load_dataset\n",
    "import pandas as pd\n",
    "import numpy as np"
   ]
  },
  {
   "cell_type": "code",
   "execution_count": 1,
   "outputs": [],
   "source": [],
   "metadata": {
    "collapsed": false
   }
  },
  {
   "cell_type": "markdown",
   "source": [
    "<h1>Amazon reviews</h1>"
   ],
   "metadata": {
    "collapsed": false,
    "pycharm": {
     "name": "#%% md\n"
    }
   }
  },
  {
   "cell_type": "code",
   "execution_count": 3,
   "outputs": [
    {
     "name": "stderr",
     "output_type": "stream",
     "text": [
      "Using custom data configuration mteb--amazon_polarity-f33df51a02e26041\n"
     ]
    },
    {
     "name": "stdout",
     "output_type": "stream",
     "text": [
      "Downloading and preparing dataset json/mteb--amazon_polarity to /home/diego/.cache/huggingface/datasets/json/mteb--amazon_polarity-f33df51a02e26041/0.0.0/ac0ca5f5289a6cf108e706efcf040422dbbfa8e658dee6a819f20d76bb84d26b...\n"
     ]
    },
    {
     "data": {
      "text/plain": "  0%|          | 0/2 [00:00<?, ?it/s]",
      "application/vnd.jupyter.widget-view+json": {
       "version_major": 2,
       "version_minor": 0,
       "model_id": "4bf28854e8134f3696f5f478f0564fe9"
      }
     },
     "metadata": {},
     "output_type": "display_data"
    },
    {
     "data": {
      "text/plain": "Downloading:   0%|          | 0.00/1.73G [00:00<?, ?B/s]",
      "application/vnd.jupyter.widget-view+json": {
       "version_major": 2,
       "version_minor": 0,
       "model_id": "d8cca05c5ea149c98b33ed67bee1a5e0"
      }
     },
     "metadata": {},
     "output_type": "display_data"
    },
    {
     "data": {
      "text/plain": "Downloading:   0%|          | 0.00/192M [00:00<?, ?B/s]",
      "application/vnd.jupyter.widget-view+json": {
       "version_major": 2,
       "version_minor": 0,
       "model_id": "a30e6b9698fa46d59ca027fa45465d6a"
      }
     },
     "metadata": {},
     "output_type": "display_data"
    },
    {
     "data": {
      "text/plain": "  0%|          | 0/2 [00:00<?, ?it/s]",
      "application/vnd.jupyter.widget-view+json": {
       "version_major": 2,
       "version_minor": 0,
       "model_id": "3cb0207ef2514d3899127cbee63ace6c"
      }
     },
     "metadata": {},
     "output_type": "display_data"
    },
    {
     "name": "stdout",
     "output_type": "stream",
     "text": [
      "Dataset json downloaded and prepared to /home/diego/.cache/huggingface/datasets/json/mteb--amazon_polarity-f33df51a02e26041/0.0.0/ac0ca5f5289a6cf108e706efcf040422dbbfa8e658dee6a819f20d76bb84d26b. Subsequent calls will reuse this data.\n"
     ]
    },
    {
     "data": {
      "text/plain": "  0%|          | 0/2 [00:00<?, ?it/s]",
      "application/vnd.jupyter.widget-view+json": {
       "version_major": 2,
       "version_minor": 0,
       "model_id": "75690de46bba45b88f52931f82e29982"
      }
     },
     "metadata": {},
     "output_type": "display_data"
    }
   ],
   "source": [
    "amazon_data = load_dataset(\"mteb/amazon_polarity\")"
   ],
   "metadata": {
    "collapsed": false
   }
  },
  {
   "cell_type": "code",
   "execution_count": null,
   "outputs": [],
   "source": [
    "print(f\"Total length of polarity amazon test {len(amazon_data['test'])}\")\n",
    "print(f\"Total length of polarity amazon train {len(amazon_data['train'])}\")"
   ],
   "metadata": {
    "collapsed": false,
    "pycharm": {
     "name": "#%%\n"
    }
   }
  },
  {
   "cell_type": "code",
   "execution_count": 5,
   "outputs": [
    {
     "data": {
      "text/plain": "Dataset({\n    features: ['label', 'text', 'label_text'],\n    num_rows: 400000\n})"
     },
     "execution_count": 5,
     "metadata": {},
     "output_type": "execute_result"
    }
   ],
   "source": [
    "amazon_data[\"test\"]"
   ],
   "metadata": {
    "collapsed": false
   }
  },
  {
   "cell_type": "code",
   "execution_count": 1,
   "outputs": [
    {
     "ename": "NameError",
     "evalue": "name 'amazon_data' is not defined",
     "output_type": "error",
     "traceback": [
      "\u001B[0;31m---------------------------------------------------------------------------\u001B[0m",
      "\u001B[0;31mNameError\u001B[0m                                 Traceback (most recent call last)",
      "\u001B[0;32m/var/folders/wd/xfsy1kt56vz0vgtcclvc32sr0000gp/T/ipykernel_6799/3195416668.py\u001B[0m in \u001B[0;36m<module>\u001B[0;34m\u001B[0m\n\u001B[0;32m----> 1\u001B[0;31m \u001B[0mamazon_data\u001B[0m\u001B[0;34m.\u001B[0m\u001B[0mhead\u001B[0m\u001B[0;34m(\u001B[0m\u001B[0;36m2\u001B[0m\u001B[0;34m)\u001B[0m\u001B[0;34m\u001B[0m\u001B[0;34m\u001B[0m\u001B[0m\n\u001B[0m",
      "\u001B[0;31mNameError\u001B[0m: name 'amazon_data' is not defined"
     ]
    }
   ],
   "source": [
    "data = amazon_data['test']\n",
    "random_text = [\"teee\" for i in data[\"text\"]]\n",
    "random_labels = [1 for i in data[\"text\"]]\n",
    "d = {}\n",
    "amazon_data = pd.DataFrame(data=d)\n",
    "amazon_data.head(2)"
   ],
   "metadata": {
    "collapsed": false
   }
  },
  {
   "cell_type": "markdown",
   "source": [
    "randomly sample 20k instances. Filter out long and short reviews."
   ],
   "metadata": {
    "collapsed": false
   }
  },
  {
   "cell_type": "code",
   "execution_count": null,
   "outputs": [],
   "source": [
    "# sample records\n",
    "df_amazon = None\n",
    "\n",
    "# filter out reviews longer than 2000 and shorter than 10 words\n",
    "texts = df_amazon[\"text\"].values\n",
    "df_amazon[\"review_len\"] = [len(el.split(\" \")) for el in texts]\n",
    "df_amazon = df_amazon[(df_amazon[\"review_len\"] <= 2000) & (df_amazon[\"review_len\"] >= 10)].copy()\n",
    "\n",
    "lens = [len(el) for el in df_amazon[\"text\"].values]\n",
    "print(f\"Max len: {np.max(df_amazon['review_len'].values)}\")\n",
    "print(f\"Mean len: {np.mean(df_amazon['review_len'].values)}\")\n",
    "print(f\"Min len: {np.min(df_amazon['review_len'].values)}\")\n",
    "\n",
    "print(f\"df len:{len(df_amazon)}\")\n",
    "df_amazon[\"labels\"].value_counts()"
   ],
   "metadata": {
    "collapsed": false
   }
  },
  {
   "cell_type": "code",
   "execution_count": null,
   "outputs": [],
   "source": [
    "df_pos = df_amazon[df_amazon[\"labels\"] == 1].copy()\n",
    "df_neg = df_amazon[df_amazon[\"labels\"] == 0].copy()"
   ],
   "metadata": {
    "collapsed": false,
    "pycharm": {
     "name": "#%%\n"
    }
   }
  },
  {
   "cell_type": "markdown",
   "source": [
    "## Sample train-test split 7.5k-1k"
   ],
   "metadata": {
    "collapsed": false,
    "pycharm": {
     "name": "#%% md\n"
    }
   }
  },
  {
   "cell_type": "code",
   "execution_count": null,
   "outputs": [],
   "source": [
    "seed = 2023\n",
    "\n",
    "# shuffle data\n",
    "df_pos = df_pos.sample(frac = 1, replace=False)\n",
    "df_pos.reset_index(inplace=True)\n",
    "df_neg = df_neg.sample(frac = 1, replace=False)\n",
    "df_neg.reset_index(inplace=True)\n",
    "\n",
    "# sample positive and negative labels\n",
    "data_pos = df_pos.sample(n=4250, replace=False, random_state=seed)\n",
    "data_neg = df_neg.sample(n=4250, replace=False, random_state=seed)\n",
    "\n",
    "\n",
    "# sample train-test split positive labels\n",
    "test_pos = data_pos.sample(n=500, replace=False, random_state=seed)\n",
    "train_pos = data_pos[~data_pos.index.isin(test_pos.index)]\n",
    "\n",
    "# sample train-test split negative labels\n",
    "test_neg = data_neg.sample(n=500, replace=False, random_state=seed)\n",
    "train_neg = data_neg[~data_neg.index.isin(test_neg.index)]\n",
    "\n",
    "# build train and test\n",
    "testset = pd.concat([test_neg, test_pos])\n",
    "trainset = pd.concat([train_neg, train_pos])\n",
    "\n",
    "print()\n",
    "print(f\"len test: {len(testset)}\")\n",
    "print(f\"len train: {len(trainset)}\")"
   ],
   "metadata": {
    "collapsed": false,
    "pycharm": {
     "name": "#%%\n"
    }
   }
  },
  {
   "cell_type": "code",
   "execution_count": null,
   "outputs": [],
   "source": [
    "testset.to_csv(\"../amazon/test.csv\", sep=\"\\t\", index=False)\n",
    "trainset.to_csv(\"../amazon/train.csv\", sep=\"\\t\", index=False)"
   ],
   "metadata": {
    "collapsed": false,
    "pycharm": {
     "name": "#%%\n"
    }
   }
  },
  {
   "cell_type": "code",
   "execution_count": null,
   "outputs": [],
   "source": [],
   "metadata": {
    "collapsed": false,
    "pycharm": {
     "name": "#%%\n"
    }
   }
  },
  {
   "cell_type": "code",
   "execution_count": null,
   "outputs": [],
   "source": [
    "def produce_datasets(n, m, out_dir):\n",
    "    train_set = pd.read_csv(\"../rotten/train.csv\", sep=\"\\t\")\n",
    "    print(len(train_set))\n",
    "\n",
    "    df_origin = train_set.sample(n=n+m, replace=False, random_state=seed)\n",
    "    df_n = df_origin.sample(n=n, replace=False, random_state=seed)\n",
    "    df_seed = df_n.sample(n=m, replace=False, random_state=seed)\n",
    "\n",
    "    print(f\"len origin: {len(df_origin)}\")\n",
    "    print(f\"len n_data: {len(df_n)}\")\n",
    "    print(f\"len seed: {len(df_seed)}\")\n",
    "\n",
    "    df_origin = trainset.sample(n=n+m, replace=False, random_state=seed)\n",
    "    df_n = df_origin.sample(n=n, replace=False, random_state=seed)\n",
    "    df_seed = df_n.sample(n=m, replace=False, random_state=seed)\n",
    "\n",
    "    print(f\"len origin: {len(df_origin)}\")\n",
    "    print(f\"len n_data: {len(df_n)}\")\n",
    "    print(f\"len seed: {len(df_seed)}\")\n",
    "\n",
    "    df_seed[\"label_counter\"] = [int(not el) for el in df_seed[\"labels\"]]\n",
    "    df_seed[\"sentiment_counter\"] = [\"positive\" if x==\"negative\" else \"negative\" for x in df_seed[\"sentiment\"]]\n",
    "    df_seed.rename(columns={\"labels\": \"label_ex\",\n",
    "                            \"text\": \"example\",\n",
    "                            \"sentiment\": \"sentiment_ex\"}, inplace=True)\n",
    "\n",
    "    df_seed[\"paired_id\"] = [i for i in range(len(df_seed))]\n",
    "    df_seed[\"counterfactual\"] = [\"None\" for i in range(len(df_seed))]\n",
    "\n",
    "    df_origin.to_csv(f\"../rotten/{out_dir}/origin_data.csv\", sep=\"\\t\", index=False)\n",
    "    df_n.to_csv(f\"../rotten/{out_dir}/n_data.csv\", sep=\"\\t\", index=False)\n",
    "    df_seed.to_csv(f\"../rotten/{out_dir}/seed_data.csv\", sep=\"\\t\", index=False)"
   ],
   "metadata": {
    "collapsed": false,
    "pycharm": {
     "name": "#%%\n"
    }
   }
  },
  {
   "cell_type": "code",
   "execution_count": null,
   "outputs": [],
   "source": [],
   "metadata": {
    "collapsed": false,
    "pycharm": {
     "name": "#%%\n"
    }
   }
  },
  {
   "cell_type": "markdown",
   "source": [
    "## n=5k & m=2.5k (n=2m)"
   ],
   "metadata": {
    "collapsed": false,
    "pycharm": {
     "name": "#%% md\n"
    }
   }
  },
  {
   "cell_type": "code",
   "execution_count": null,
   "outputs": [],
   "source": [
    "produce_datasets(5000, 2500, \"tr2\")"
   ],
   "metadata": {
    "collapsed": false,
    "pycharm": {
     "name": "#%%\n"
    }
   }
  },
  {
   "cell_type": "code",
   "execution_count": null,
   "outputs": [],
   "source": [
    "produce_datasets(2000, 1000, \"tr1\")"
   ],
   "metadata": {
    "collapsed": false,
    "pycharm": {
     "name": "#%%\n"
    }
   }
  },
  {
   "cell_type": "code",
   "execution_count": null,
   "outputs": [],
   "source": [
    "produce_datasets(3000, 3000, \"tr3\")"
   ],
   "metadata": {
    "collapsed": false,
    "pycharm": {
     "name": "#%%\n"
    }
   }
  }
 ],
 "metadata": {
  "kernelspec": {
   "display_name": "Python 3",
   "language": "python",
   "name": "python3"
  },
  "language_info": {
   "codemirror_mode": {
    "name": "ipython",
    "version": 2
   },
   "file_extension": ".py",
   "mimetype": "text/x-python",
   "name": "python",
   "nbconvert_exporter": "python",
   "pygments_lexer": "ipython2",
   "version": "2.7.6"
  }
 },
 "nbformat": 4,
 "nbformat_minor": 0
}