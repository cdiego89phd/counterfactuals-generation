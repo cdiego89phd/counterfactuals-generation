{
 "cells": [
  {
   "cell_type": "markdown",
   "metadata": {
    "collapsed": true,
    "pycharm": {
     "name": "#%% md\n"
    }
   },
   "source": [
    "<h1>Evaluation of generated counterfactuals</h1>"
   ]
  },
  {
   "cell_type": "code",
   "execution_count": 1,
   "outputs": [],
   "source": [
    "import torch\n",
    "import transformers\n",
    "import numpy as np\n",
    "import pandas as pd\n",
    "import yaml\n",
    "import itertools\n",
    "import sklearn\n",
    "import nltk"
   ],
   "metadata": {
    "collapsed": false,
    "pycharm": {
     "name": "#%%\n"
    }
   }
  },
  {
   "cell_type": "code",
   "execution_count": 2,
   "outputs": [
    {
     "name": "stdout",
     "output_type": "stream",
     "text": [
      "Evaluation's params read from notebook\n"
     ]
    }
   ],
   "source": [
    "READ_SETTINGS_FROM_FILE = False\n",
    "\n",
    "SETTINGS_PATH = \"/home/diego/counterfactuals-generation/sentiment_task/zs_gpt2_experiments/settings/\"\n",
    "SETTING_NAME = \"zs_prompt_1_validation.yaml\"\n",
    "RESULTS_NAME = \"zs_prompt_1_validation-\"\n",
    "\n",
    "if READ_SETTINGS_FROM_FILE:\n",
    "    a_yaml_file = open(f\"{SETTINGS_PATH}{SETTING_NAME}\")\n",
    "    parsed_yaml_file = yaml.load(a_yaml_file, Loader=yaml.FullLoader)\n",
    "\n",
    "    # the following params will be included in a yaml file\n",
    "    RESULTS_PATH = parsed_yaml_file['RESULTS_PATH']\n",
    "    FOLDS = parsed_yaml_file['FOLDS']\n",
    "    CUDA_DEVICE = parsed_yaml_file['CUDA_DEVICE']\n",
    "    CLASSIFIER_NAME = 'distilbert-base-uncased-finetuned-sst-2-english'\n",
    "    CLASSIFIER_LABEL_MAP = {'LABEL_0':0, 'LABEL_1':1}\n",
    "    GEN_ARGS = parsed_yaml_file['GEN_ARGS']\n",
    "    print(\"Evaluation's params read from yaml file\")\n",
    "\n",
    "else:\n",
    "    RESULTS_PATH = \"/home/diego/counterfactuals-generation/sentiment_task/zs_gpt2_experiments/validation/\"\n",
    "    FOLDS = [\"0\"] # FOLDS = [\"0\", \"1\", \"2\", \"3\", \"4\"]\n",
    "    CUDA_DEVICE = 0\n",
    "    CLASSIFIER_NAME = 'distilbert-base-uncased-finetuned-sst-2-english'\n",
    "    CLASSIFIER_LABEL_MAP = {'NEGATIVE':0, 'POSITIVE':1}\n",
    "    GEN_ARGS = {\n",
    "        \"no_repeat_ngram_size\": [4],\n",
    "        \"num_beams\": [5],\n",
    "        \"repetition_penalty\": [1.0],\n",
    "        \"temperature\": [0.7]\n",
    "    }\n",
    "    print(\"Evaluation's params read from notebook\")"
   ],
   "metadata": {
    "collapsed": false,
    "pycharm": {
     "name": "#%%\n"
    }
   }
  },
  {
   "cell_type": "code",
   "execution_count": 3,
   "outputs": [],
   "source": [
    "def load_results(folds, results_path, results_name, params):\n",
    "    results = {}\n",
    "    for fold in folds:\n",
    "        results[fold] = {}\n",
    "        for pars in params:\n",
    "            results[fold][pars] = pd.read_csv(f\"{results_path}fold_{fold}/{results_name}{pars}.gen\", sep='\\t')\n",
    "    return results"
   ],
   "metadata": {
    "collapsed": false,
    "pycharm": {
     "name": "#%%\n"
    }
   }
  },
  {
   "cell_type": "code",
   "execution_count": 4,
   "outputs": [],
   "source": [
    "class Evaluator:\n",
    "\n",
    "    def __init__(self, s_dataset, s_tokenizer, s_model, s_label_dict, s_device):\n",
    "        \"\"\"Constructor of the evaluator\n",
    "        @param: s_dataset The dataset for the sentiment classifier\n",
    "        @param: s_tokenizer The tokenizer for the sentiment classifier\n",
    "        @param: s_model The sentiment classifier\n",
    "        @param: s_label_dict The mapping between classifier's outputs and labels\n",
    "        \"\"\"\n",
    "        self.s_dataset = s_dataset\n",
    "        self.s_tokenizer = s_tokenizer\n",
    "        self.s_model = s_model\n",
    "        self.s_label_dict = s_label_dict\n",
    "        if torch.cuda.is_available():\n",
    "            s_device = -1\n",
    "        self.classifier = transformers.pipeline(\n",
    "            task=\"sentiment-analysis\",\n",
    "            model=s_model,\n",
    "            tokenizer=s_tokenizer,\n",
    "            framework=\"pt\",\n",
    "            device=s_device)\n",
    "        self.predicted_labels = []\n",
    "        self.score_labels = []\n",
    "\n",
    "        # remove some nan values in the generated counterfactuals\n",
    "        print(f\"# of nan values removed in generated counterfactuals:{self.s_dataset['generated_counter'].isna().sum()}\")\n",
    "        self.s_dataset = self.s_dataset.dropna()\n",
    "\n",
    "    def infer_predictions(self):\n",
    "\n",
    "        texts = self.s_dataset[\"generated_counter\"].values\n",
    "\n",
    "        for text_to_classify in texts:\n",
    "            if len(text_to_classify) > 512:\n",
    "                result = self.classifier(text_to_classify[:511])[0]\n",
    "            else:\n",
    "                result = self.classifier(text_to_classify)[0]\n",
    "\n",
    "            self.predicted_labels.append(self.s_label_dict[result['label']])\n",
    "            self.score_labels.append(result['score'])\n",
    "\n",
    "\n",
    "    def lf_score(self):\n",
    "        \"\"\"Calculate the Label Flip Score (LFS)\n",
    "        \"\"\"\n",
    "        y_desired = self.s_dataset[\"label_counter\"].values\n",
    "        return sklearn.metrics.accuracy_score(y_desired, self.predicted_labels)\n",
    "\n",
    "    def get_conf_score_pred(self):\n",
    "        return np.mean(self.score_labels)\n",
    "\n",
    "    def blue_score(self):\n",
    "        \"\"\"Calculate the BLUE score for a pair of example-counter.\n",
    "\n",
    "           Returns mean and variance of the BLUE scores.\n",
    "        \"\"\"\n",
    "        BLEUscore = []\n",
    "        smoothing_function = nltk.translate.bleu_score.SmoothingFunction()\n",
    "        true_counters = self.s_dataset[\"counterfactual\"].values\n",
    "        gen_counters = self.s_dataset[\"generated_counter\"].values\n",
    "        for true_counter, gen_counter in zip(true_counters, gen_counters):\n",
    "            # example and counterfactual need to be tokenized first\n",
    "\n",
    "            try:\n",
    "                # the reference is the true counterfactual\n",
    "                reference = nltk.tokenize.word_tokenize(true_counter)\n",
    "\n",
    "                # the hypothesis is the generated counterfactual\n",
    "                hypothesis = nltk.tokenize.word_tokenize(gen_counter)\n",
    "\n",
    "            except TypeError:\n",
    "                continue\n",
    "                # print(true_counter)\n",
    "\n",
    "            BLEUscore.append(nltk.translate.bleu_score.sentence_bleu([reference],\n",
    "                                                                     hypothesis,\n",
    "                                                                     smoothing_function=smoothing_function.method1))\n",
    "        return np.mean(BLEUscore), np.var(BLEUscore)\n",
    "\n",
    "def evaluate_fold_results(f_res, o_file, o_str):\n",
    "    for cfg_gen in f_res:\n",
    "        print(f\"Cfg:{cfg_gen}\")\n",
    "        cfg_res = f_res[cfg_gen]\n",
    "        evaluator = Evaluator(cfg_res, tokenizer, lm, CLASSIFIER_LABEL_MAP, CUDA_DEVICE)\n",
    "        blue_score, var_blue_score = evaluator.blue_score()\n",
    "        evaluator.infer_predictions()\n",
    "        conf_score = evaluator.get_conf_score_pred()\n",
    "        lf_score = evaluator.lf_score()\n",
    "\n",
    "        o_str += f\"{cfg_gen}\\t{blue_score}\\t{var_blue_score}\\t{lf_score}\\t{conf_score}\\n\"\n",
    "        o_file.write(o_str)"
   ],
   "metadata": {
    "collapsed": false,
    "pycharm": {
     "name": "#%%\n"
    }
   }
  },
  {
   "cell_type": "code",
   "execution_count": null,
   "outputs": [],
   "source": [
    "\n"
   ],
   "metadata": {
    "collapsed": false,
    "pycharm": {
     "name": "#%%\n"
    }
   }
  },
  {
   "cell_type": "markdown",
   "source": [
    "<h3>Load sentiment classifier</h3>"
   ],
   "metadata": {
    "collapsed": false,
    "pycharm": {
     "name": "#%% md\n"
    }
   }
  },
  {
   "cell_type": "code",
   "execution_count": 5,
   "outputs": [],
   "source": [
    "tokenizer = transformers.AutoTokenizer.from_pretrained(CLASSIFIER_NAME)\n",
    "lm = transformers.AutoModelForSequenceClassification.from_pretrained(CLASSIFIER_NAME)"
   ],
   "metadata": {
    "collapsed": false,
    "pycharm": {
     "name": "#%%\n"
    }
   }
  },
  {
   "cell_type": "code",
   "execution_count": 6,
   "outputs": [
    {
     "name": "stdout",
     "output_type": "stream",
     "text": [
      "Results loaded...\n"
     ]
    }
   ],
   "source": [
    "all_pars = sorted(GEN_ARGS)\n",
    "gen_grid = list(itertools.product(*(GEN_ARGS[par] for par in all_pars)))\n",
    "\n",
    "results_dict = load_results(FOLDS, RESULTS_PATH, RESULTS_NAME, gen_grid)\n",
    "print(\"Results loaded...\")\n",
    "# results_dict"
   ],
   "metadata": {
    "collapsed": false,
    "pycharm": {
     "name": "#%%\n"
    }
   }
  },
  {
   "cell_type": "code",
   "execution_count": null,
   "outputs": [],
   "source": [],
   "metadata": {
    "collapsed": false,
    "pycharm": {
     "name": "#%%\n"
    }
   }
  },
  {
   "cell_type": "markdown",
   "source": [
    "<h3>Calculate metrics for the generated counterfactuals for all different folds</h3>"
   ],
   "metadata": {
    "collapsed": false,
    "pycharm": {
     "name": "#%% md\n"
    }
   }
  },
  {
   "cell_type": "code",
   "execution_count": 7,
   "outputs": [
    {
     "name": "stdout",
     "output_type": "stream",
     "text": [
      "Cfg:(4, 5, 1.0, 0.7)\n",
      "# of nan values removed in generated counterfactuals:3\n"
     ]
    }
   ],
   "source": [
    "def evaluate_fold_results(f_res, o_file, o_str):\n",
    "    for cfg_gen in f_res:\n",
    "        print(f\"Cfg:{cfg_gen}\")\n",
    "        cfg_res = f_res[cfg_gen]\n",
    "        evaluator = Evaluator(cfg_res, tokenizer, lm, CLASSIFIER_LABEL_MAP, CUDA_DEVICE)\n",
    "        blue_score, var_blue_score = evaluator.blue_score()\n",
    "        evaluator.infer_predictions()\n",
    "        conf_score = evaluator.get_conf_score_pred()\n",
    "        lf_score = evaluator.lf_score()\n",
    "\n",
    "        o_str += f\"{cfg_gen}\\t{blue_score}\\t{var_blue_score}\\t{lf_score}\\t{conf_score}\\n\"\n",
    "        o_file.write(o_str)\n",
    "\n",
    "with open(RESULTS_PATH + \"val_results.csv\", 'w') as outfile:\n",
    "    # print file header\n",
    "    outfile.write(\"fold\\tcfg\\tblue\\tvar_blue\\tlfs\\tconf_score_pred\\n\")\n",
    "    for foldd in results_dict:\n",
    "        fold_results = results_dict[foldd]\n",
    "        # add fold and cfg\n",
    "        out_str = f\"{foldd}\\t\"\n",
    "        evaluate_fold_results(fold_results, outfile, out_str)"
   ],
   "metadata": {
    "collapsed": false,
    "pycharm": {
     "name": "#%%\n"
    }
   }
  },
  {
   "cell_type": "markdown",
   "source": [
    "<h3>Calculate best cfg for each fold</h3>"
   ],
   "metadata": {
    "collapsed": false,
    "pycharm": {
     "name": "#%% md\n"
    }
   }
  },
  {
   "cell_type": "code",
   "execution_count": 8,
   "outputs": [
    {
     "name": "stdout",
     "output_type": "stream",
     "text": [
      "Results loaded...\n"
     ]
    }
   ],
   "source": [
    "df_results = pd.read_csv(f\"{RESULTS_PATH}val_results.csv\", sep='\\t')\n",
    "print(\"Results loaded...\")\n",
    "# results_dict"
   ],
   "metadata": {
    "collapsed": false,
    "pycharm": {
     "name": "#%%\n"
    }
   }
  },
  {
   "cell_type": "code",
   "execution_count": 9,
   "outputs": [],
   "source": [
    "max_values_lfs = df_results.loc[df_results.reset_index().groupby(['fold'])['lfs'].idxmax()]\n",
    "max_values_blue = df_results.loc[df_results.reset_index().groupby(['fold'])['blue'].idxmax()]"
   ],
   "metadata": {
    "collapsed": false,
    "pycharm": {
     "name": "#%%\n"
    }
   }
  },
  {
   "cell_type": "code",
   "execution_count": 10,
   "outputs": [],
   "source": [
    "max_values_lfs.to_csv(f\"{RESULTS_PATH}val_best_lfs.csv\", sep=\"\\t\", header=True, index=False)\n",
    "max_values_blue.to_csv(f\"{RESULTS_PATH}val_best_blue.csv\", sep=\"\\t\", header=True, index=False)"
   ],
   "metadata": {
    "collapsed": false,
    "pycharm": {
     "name": "#%%\n"
    }
   }
  },
  {
   "cell_type": "code",
   "execution_count": 11,
   "outputs": [
    {
     "data": {
      "text/plain": "   fold               cfg      blue  var_blue       lfs  conf_score_pred\n0     0  (4, 5, 1.0, 0.7)  0.019246  0.000396  0.503778         0.973354",
      "text/html": "<div>\n<style scoped>\n    .dataframe tbody tr th:only-of-type {\n        vertical-align: middle;\n    }\n\n    .dataframe tbody tr th {\n        vertical-align: top;\n    }\n\n    .dataframe thead th {\n        text-align: right;\n    }\n</style>\n<table border=\"1\" class=\"dataframe\">\n  <thead>\n    <tr style=\"text-align: right;\">\n      <th></th>\n      <th>fold</th>\n      <th>cfg</th>\n      <th>blue</th>\n      <th>var_blue</th>\n      <th>lfs</th>\n      <th>conf_score_pred</th>\n    </tr>\n  </thead>\n  <tbody>\n    <tr>\n      <th>0</th>\n      <td>0</td>\n      <td>(4, 5, 1.0, 0.7)</td>\n      <td>0.019246</td>\n      <td>0.000396</td>\n      <td>0.503778</td>\n      <td>0.973354</td>\n    </tr>\n  </tbody>\n</table>\n</div>"
     },
     "execution_count": 11,
     "metadata": {},
     "output_type": "execute_result"
    }
   ],
   "source": [
    "max_values_lfs"
   ],
   "metadata": {
    "collapsed": false,
    "pycharm": {
     "name": "#%%\n"
    }
   }
  },
  {
   "cell_type": "code",
   "execution_count": 12,
   "outputs": [
    {
     "data": {
      "text/plain": "   fold               cfg      blue  var_blue       lfs  conf_score_pred\n0     0  (4, 5, 1.0, 0.7)  0.019246  0.000396  0.503778         0.973354",
      "text/html": "<div>\n<style scoped>\n    .dataframe tbody tr th:only-of-type {\n        vertical-align: middle;\n    }\n\n    .dataframe tbody tr th {\n        vertical-align: top;\n    }\n\n    .dataframe thead th {\n        text-align: right;\n    }\n</style>\n<table border=\"1\" class=\"dataframe\">\n  <thead>\n    <tr style=\"text-align: right;\">\n      <th></th>\n      <th>fold</th>\n      <th>cfg</th>\n      <th>blue</th>\n      <th>var_blue</th>\n      <th>lfs</th>\n      <th>conf_score_pred</th>\n    </tr>\n  </thead>\n  <tbody>\n    <tr>\n      <th>0</th>\n      <td>0</td>\n      <td>(4, 5, 1.0, 0.7)</td>\n      <td>0.019246</td>\n      <td>0.000396</td>\n      <td>0.503778</td>\n      <td>0.973354</td>\n    </tr>\n  </tbody>\n</table>\n</div>"
     },
     "execution_count": 12,
     "metadata": {},
     "output_type": "execute_result"
    }
   ],
   "source": [
    "df_results"
   ],
   "metadata": {
    "collapsed": false,
    "pycharm": {
     "name": "#%%\n"
    }
   }
  },
  {
   "cell_type": "code",
   "execution_count": null,
   "outputs": [],
   "source": [],
   "metadata": {
    "collapsed": false,
    "pycharm": {
     "name": "#%%\n"
    }
   }
  }
 ],
 "metadata": {
  "kernelspec": {
   "display_name": "Python 3",
   "language": "python",
   "name": "python3"
  },
  "language_info": {
   "codemirror_mode": {
    "name": "ipython",
    "version": 2
   },
   "file_extension": ".py",
   "mimetype": "text/x-python",
   "name": "python",
   "nbconvert_exporter": "python",
   "pygments_lexer": "ipython2",
   "version": "2.7.6"
  }
 },
 "nbformat": 4,
 "nbformat_minor": 0
}