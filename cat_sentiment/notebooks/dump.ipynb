{
 "cells": [
  {
   "cell_type": "code",
   "execution_count": 1,
   "metadata": {
    "collapsed": true
   },
   "outputs": [],
   "source": [
    "import pandas as pd"
   ]
  },
  {
   "cell_type": "code",
   "execution_count": 5,
   "outputs": [],
   "source": [],
   "metadata": {
    "collapsed": false
   }
  },
  {
   "cell_type": "code",
   "execution_count": 2,
   "outputs": [
    {
     "data": {
      "text/plain": "After Ad Screening   Mitsubishi  Toyota  Total\nBefore Ad Screening                           \nMitsubishi                   25      15     40\nToyota                        5      55     60\nTotal                        30      70    100",
      "text/html": "<div>\n<style scoped>\n    .dataframe tbody tr th:only-of-type {\n        vertical-align: middle;\n    }\n\n    .dataframe tbody tr th {\n        vertical-align: top;\n    }\n\n    .dataframe thead th {\n        text-align: right;\n    }\n</style>\n<table border=\"1\" class=\"dataframe\">\n  <thead>\n    <tr style=\"text-align: right;\">\n      <th>After Ad Screening</th>\n      <th>Mitsubishi</th>\n      <th>Toyota</th>\n      <th>Total</th>\n    </tr>\n    <tr>\n      <th>Before Ad Screening</th>\n      <th></th>\n      <th></th>\n      <th></th>\n    </tr>\n  </thead>\n  <tbody>\n    <tr>\n      <th>Mitsubishi</th>\n      <td>25</td>\n      <td>15</td>\n      <td>40</td>\n    </tr>\n    <tr>\n      <th>Toyota</th>\n      <td>5</td>\n      <td>55</td>\n      <td>60</td>\n    </tr>\n    <tr>\n      <th>Total</th>\n      <td>30</td>\n      <td>70</td>\n      <td>100</td>\n    </tr>\n  </tbody>\n</table>\n</div>"
     },
     "execution_count": 2,
     "metadata": {},
     "output_type": "execute_result"
    }
   ],
   "source": [
    "data = [['Toyota', 'Toyota'] for i in range(55)] + \\\n",
    "       [['Toyota', 'Mitsubishi'] for i in range(5)] + \\\n",
    "       [['Mitsubishi', 'Toyota'] for i in range(15)] + \\\n",
    "       [['Mitsubishi', 'Mitsubishi'] for i in range(25)]\n",
    "df = pd.DataFrame(data, columns = ['Before Ad Screening', 'After Ad Screening'])\n",
    "\n",
    "# create contingency table\n",
    "data_crosstab = pd.crosstab(df['Before Ad Screening'],\n",
    "                            df['After Ad Screening'],\n",
    "                            margins=True, margins_name=\"Total\")\n",
    "data_crosstab"
   ],
   "metadata": {
    "collapsed": false
   }
  },
  {
   "cell_type": "code",
   "execution_count": 3,
   "outputs": [
    {
     "data": {
      "text/plain": "15"
     },
     "execution_count": 3,
     "metadata": {},
     "output_type": "execute_result"
    }
   ],
   "source": [
    "data_crosstab['Toyota']['Mitsubishi']"
   ],
   "metadata": {
    "collapsed": false
   }
  },
  {
   "cell_type": "code",
   "execution_count": 4,
   "outputs": [
    {
     "data": {
      "text/plain": "4.05"
     },
     "execution_count": 4,
     "metadata": {},
     "output_type": "execute_result"
    }
   ],
   "source": [
    "(abs(data_crosstab['Toyota']['Mitsubishi'] - data_crosstab['Mitsubishi']['Toyota']) - 1)**2 / (data_crosstab['Toyota']['Mitsubishi'] + data_crosstab['Mitsubishi']['Toyota'])"
   ],
   "metadata": {
    "collapsed": false
   }
  },
  {
   "cell_type": "code",
   "execution_count": 5,
   "outputs": [
    {
     "data": {
      "text/plain": "10"
     },
     "execution_count": 5,
     "metadata": {},
     "output_type": "execute_result"
    }
   ],
   "source": [
    "data_crosstab['Toyota']['Mitsubishi'] - data_crosstab['Mitsubishi']['Toyota']"
   ],
   "metadata": {
    "collapsed": false
   }
  },
  {
   "cell_type": "code",
   "execution_count": 6,
   "outputs": [
    {
     "data": {
      "text/plain": "array(['Toyota', 'Mitsubishi'], dtype=object)"
     },
     "execution_count": 6,
     "metadata": {},
     "output_type": "execute_result"
    }
   ],
   "source": [],
   "metadata": {
    "collapsed": false
   }
  },
  {
   "cell_type": "code",
   "execution_count": 8,
   "outputs": [
    {
     "data": {
      "text/plain": "2"
     },
     "execution_count": 8,
     "metadata": {},
     "output_type": "execute_result"
    }
   ],
   "source": [
    "len(df['Before Ad Screening'].unique())"
   ],
   "metadata": {
    "collapsed": false
   }
  },
  {
   "cell_type": "code",
   "execution_count": null,
   "outputs": [],
   "source": [],
   "metadata": {
    "collapsed": false
   }
  }
 ],
 "metadata": {
  "kernelspec": {
   "display_name": "Python 3",
   "language": "python",
   "name": "python3"
  },
  "language_info": {
   "codemirror_mode": {
    "name": "ipython",
    "version": 2
   },
   "file_extension": ".py",
   "mimetype": "text/x-python",
   "name": "python",
   "nbconvert_exporter": "python",
   "pygments_lexer": "ipython2",
   "version": "2.7.6"
  }
 },
 "nbformat": 4,
 "nbformat_minor": 0
}
