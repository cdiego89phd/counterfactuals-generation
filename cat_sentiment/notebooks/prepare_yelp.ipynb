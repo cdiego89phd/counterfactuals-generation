{
 "cells": [
  {
   "cell_type": "code",
   "execution_count": 154,
   "metadata": {
    "collapsed": true
   },
   "outputs": [],
   "source": [
    "import pandas as pd\n",
    "import numpy as np"
   ]
  },
  {
   "cell_type": "code",
   "execution_count": 154,
   "outputs": [],
   "source": [],
   "metadata": {
    "collapsed": false
   }
  },
  {
   "cell_type": "markdown",
   "source": [
    "<h1>YELP restaurants</h1>"
   ],
   "metadata": {
    "collapsed": false
   }
  },
  {
   "cell_type": "code",
   "execution_count": 155,
   "outputs": [
    {
     "name": "stderr",
     "output_type": "stream",
     "text": [
      "Reusing dataset yelp_polarity (/home/diego/.cache/huggingface/datasets/yelp_polarity/plain_text/1.0.0/a770787b2526bdcbfc29ac2d9beb8e820fbc15a03afd3ebc4fb9d8529de57544)\n"
     ]
    },
    {
     "data": {
      "text/plain": "  0%|          | 0/2 [00:00<?, ?it/s]",
      "application/vnd.jupyter.widget-view+json": {
       "version_major": 2,
       "version_minor": 0,
       "model_id": "98d87c88414042488c9b5abde92407c2"
      }
     },
     "metadata": {},
     "output_type": "display_data"
    }
   ],
   "source": [
    "from datasets import load_dataset\n",
    "\n",
    "yelp_data = load_dataset(\"yelp_polarity\")"
   ],
   "metadata": {
    "collapsed": false
   }
  },
  {
   "cell_type": "code",
   "execution_count": 156,
   "outputs": [
    {
     "name": "stdout",
     "output_type": "stream",
     "text": [
      "Total length of polarity yelp test 38000\n",
      "\n"
     ]
    },
    {
     "data": {
      "text/plain": "                                                text  labels sentiment\n0  Contrary to other reviews, I have zero complai...       1  positive\n1  Last summer I had an appointment to get new ti...       0  negative",
      "text/html": "<div>\n<style scoped>\n    .dataframe tbody tr th:only-of-type {\n        vertical-align: middle;\n    }\n\n    .dataframe tbody tr th {\n        vertical-align: top;\n    }\n\n    .dataframe thead th {\n        text-align: right;\n    }\n</style>\n<table border=\"1\" class=\"dataframe\">\n  <thead>\n    <tr style=\"text-align: right;\">\n      <th></th>\n      <th>text</th>\n      <th>labels</th>\n      <th>sentiment</th>\n    </tr>\n  </thead>\n  <tbody>\n    <tr>\n      <th>0</th>\n      <td>Contrary to other reviews, I have zero complai...</td>\n      <td>1</td>\n      <td>positive</td>\n    </tr>\n    <tr>\n      <th>1</th>\n      <td>Last summer I had an appointment to get new ti...</td>\n      <td>0</td>\n      <td>negative</td>\n    </tr>\n  </tbody>\n</table>\n</div>"
     },
     "execution_count": 156,
     "metadata": {},
     "output_type": "execute_result"
    }
   ],
   "source": [
    "print(f\"Total length of polarity yelp test {len(yelp_data['test'])}\")\n",
    "print(\"\")\n",
    "\n",
    "texts = yelp_data[\"test\"][\"text\"]\n",
    "labels = yelp_data[\"test\"][\"label\"]\n",
    "\n",
    "d = {\"text\": texts,\n",
    "     \"labels\": labels,\n",
    "}\n",
    "\n",
    "df_yelp = pd.DataFrame(data=d)\n",
    "df_yelp[\"sentiment\"] = df_yelp.apply(lambda row: \"positive\" if row['labels'] else \"negative\", axis=1)\n",
    "df_yelp.head(2)"
   ],
   "metadata": {
    "collapsed": false
   }
  },
  {
   "cell_type": "code",
   "execution_count": 157,
   "outputs": [
    {
     "name": "stdout",
     "output_type": "stream",
     "text": [
      "Max len: 1053\n",
      "Mean len: 135.18473684210525\n",
      "Min len: 1\n"
     ]
    },
    {
     "data": {
      "text/plain": "positive    19000\nnegative    19000\nName: sentiment, dtype: int64"
     },
     "execution_count": 157,
     "metadata": {},
     "output_type": "execute_result"
    }
   ],
   "source": [
    "texts = df_yelp[\"text\"].values\n",
    "lens = [len(el.split(\" \")) for el in texts]\n",
    "print(f\"Max len: {np.max(lens)}\")\n",
    "print(f\"Mean len: {np.mean(lens)}\")\n",
    "print(f\"Min len: {np.min(lens)}\")\n",
    "\n",
    "df_yelp[\"sentiment\"].value_counts()"
   ],
   "metadata": {
    "collapsed": false
   }
  },
  {
   "cell_type": "code",
   "execution_count": 167,
   "outputs": [
    {
     "name": "stdout",
     "output_type": "stream",
     "text": [
      "Max len: 1053\n",
      "Mean len: 137.45791714645316\n",
      "Min len: 10\n"
     ]
    },
    {
     "data": {
      "text/plain": "0    18770\n1    18573\nName: labels, dtype: int64"
     },
     "execution_count": 167,
     "metadata": {},
     "output_type": "execute_result"
    }
   ],
   "source": [
    "# filter out reviews longer than 2000 and shorter than 10 words\n",
    "texts = df_yelp[\"text\"].values\n",
    "df_yelp[\"review_len\"] = [len(el.split(\" \")) for el in texts]\n",
    "df_yelp = df_yelp[(df_yelp[\"review_len\"] <= 2000) & (df_yelp[\"review_len\"] >= 10)].copy()\n",
    "\n",
    "lens = [len(el) for el in df_yelp[\"text\"].values]\n",
    "print(f\"Max len: {np.max(df_yelp['review_len'].values)}\")\n",
    "print(f\"Mean len: {np.mean(df_yelp['review_len'].values)}\")\n",
    "print(f\"Min len: {np.min(df_yelp['review_len'].values)}\")\n",
    "\n",
    "df_yelp[\"labels\"].value_counts()"
   ],
   "metadata": {
    "collapsed": false
   }
  },
  {
   "cell_type": "code",
   "execution_count": 159,
   "outputs": [],
   "source": [
    "df_pos = df_yelp[df_yelp[\"labels\"] == 1].copy()\n",
    "df_neg = df_yelp[df_yelp[\"labels\"] == 0].copy()"
   ],
   "metadata": {
    "collapsed": false
   }
  },
  {
   "cell_type": "markdown",
   "source": [
    "## Sample 9k instances - 4.5k positive, 4.5k negative. Train-test split 8k-1k%"
   ],
   "metadata": {
    "collapsed": false
   }
  },
  {
   "cell_type": "code",
   "execution_count": 160,
   "outputs": [
    {
     "name": "stdout",
     "output_type": "stream",
     "text": [
      "\n",
      "len test: 1000\n",
      "len train: 8000\n"
     ]
    }
   ],
   "source": [
    "seed = 2023\n",
    "\n",
    "# shuffle data\n",
    "df_pos = df_pos.sample(frac = 1, replace=False)\n",
    "df_neg = df_neg.sample(frac = 1, replace=False)\n",
    "\n",
    "# sample positive and negative labels\n",
    "data_pos = df_pos.sample(n=4500, replace=False, random_state=seed)\n",
    "data_neg = df_neg.sample(n=4500, replace=False, random_state=seed)\n",
    "\n",
    "# sample train-test split positive labels\n",
    "test_pos = data_pos.sample(n=500, replace=False, random_state=seed)\n",
    "train_pos = data_pos[~data_pos.index.isin(test_pos.index)]\n",
    "\n",
    "# sample train-test split negative labels (80-20)%\n",
    "test_neg = data_neg.sample(n=500, replace=False, random_state=seed)\n",
    "train_neg = data_neg[~data_neg.index.isin(test_neg.index)]\n",
    "\n",
    "# build train and test\n",
    "testset = test_neg.append(test_pos)\n",
    "trainset = train_neg.append(train_pos)\n",
    "\n",
    "print()\n",
    "print(f\"len test: {len(testset)}\")\n",
    "print(f\"len train: {len(trainset)}\")"
   ],
   "metadata": {
    "collapsed": false
   }
  },
  {
   "cell_type": "code",
   "execution_count": 161,
   "outputs": [],
   "source": [
    "testset.to_csv(\"../yelp/test.csv\", sep=\"\\t\", index=False)\n",
    "trainset.to_csv(\"../yelp/train.csv\", sep=\"\\t\", index=False)"
   ],
   "metadata": {
    "collapsed": false
   }
  },
  {
   "cell_type": "code",
   "execution_count": 161,
   "outputs": [],
   "source": [],
   "metadata": {
    "collapsed": false
   }
  },
  {
   "cell_type": "code",
   "execution_count": 162,
   "outputs": [],
   "source": [
    "def produce_datasets(n, m, out_dir):\n",
    "     train_set = pd.read_csv(\"../yelp/train.csv\", sep=\"\\t\")\n",
    "     print(len(train_set))\n",
    "\n",
    "     df_origin = train_set.sample(n=n+m, replace=False, random_state=seed)\n",
    "     df_n = df_origin.sample(n=n, replace=False, random_state=seed)\n",
    "     df_seed = df_n.sample(n=m, replace=False, random_state=seed)\n",
    "\n",
    "     print(f\"len origin: {len(df_origin)}\")\n",
    "     print(f\"len n_data: {len(df_n)}\")\n",
    "     print(f\"len seed: {len(df_seed)}\")\n",
    "\n",
    "     df_origin = trainset.sample(n=n+m, replace=False, random_state=seed)\n",
    "     df_n = df_origin.sample(n=n, replace=False, random_state=seed)\n",
    "     df_seed = df_n.sample(n=m, replace=False, random_state=seed)\n",
    "\n",
    "     print(f\"len origin: {len(df_origin)}\")\n",
    "     print(f\"len n_data: {len(df_n)}\")\n",
    "     print(f\"len seed: {len(df_seed)}\")\n",
    "\n",
    "     df_seed[\"label_counter\"] = [int(not el) for el in df_seed[\"labels\"]]\n",
    "     df_seed[\"sentiment_counter\"] = [\"positive\" if x==\"negative\" else \"negative\" for x in df_seed[\"sentiment\"]]\n",
    "     df_seed.rename(columns={\"labels\": \"label_ex\",\n",
    "                             \"text\": \"example\",\n",
    "                             \"sentiment\": \"sentiment_ex\"}, inplace=True)\n",
    "\n",
    "     df_seed[\"paired_id\"] = [i for i in range(len(df_seed))]\n",
    "     df_seed[\"counterfactual\"] = [\"None\" for i in range(len(df_seed))]\n",
    "\n",
    "     df_origin.to_csv(f\"../yelp/{out_dir}/origin_data.csv\", sep=\"\\t\", index=False)\n",
    "     df_n.to_csv(f\"../yelp/{out_dir}/n_data.csv\", sep=\"\\t\", index=False)\n",
    "     df_seed.to_csv(f\"../yelp/{out_dir}/seed_data.csv\", sep=\"\\t\", index=False)\n",
    "\n",
    "     print(df_seed.head(2))"
   ],
   "metadata": {
    "collapsed": false
   }
  },
  {
   "cell_type": "code",
   "execution_count": 162,
   "outputs": [],
   "source": [],
   "metadata": {
    "collapsed": false
   }
  },
  {
   "cell_type": "markdown",
   "source": [
    "## n=5k & m=2.5k (n=2m)"
   ],
   "metadata": {
    "collapsed": false
   }
  },
  {
   "cell_type": "code",
   "execution_count": 163,
   "outputs": [
    {
     "name": "stdout",
     "output_type": "stream",
     "text": [
      "8000\n",
      "len origin: 7500\n",
      "len n_data: 5000\n",
      "len seed: 2500\n",
      "len origin: 7500\n",
      "len n_data: 5000\n",
      "len seed: 2500\n",
      "                                                 example  label_ex  \\\n",
      "37151  Love Cheddars. We were so excited when they op...         1   \n",
      "24672  We ordered the poutine. No gravy and was flavo...         0   \n",
      "\n",
      "      sentiment_ex  review_len  label_counter sentiment_counter  paired_id  \\\n",
      "37151     positive          26              0          negative          0   \n",
      "24672     negative          38              1          positive          1   \n",
      "\n",
      "      counterfactual  \n",
      "37151           None  \n",
      "24672           None  \n"
     ]
    }
   ],
   "source": [
    "produce_datasets(5000, 2500, \"tr2\")"
   ],
   "metadata": {
    "collapsed": false
   }
  },
  {
   "cell_type": "code",
   "execution_count": 164,
   "outputs": [
    {
     "name": "stdout",
     "output_type": "stream",
     "text": [
      "8000\n",
      "len origin: 3000\n",
      "len n_data: 2000\n",
      "len seed: 1000\n",
      "len origin: 3000\n",
      "len n_data: 2000\n",
      "len seed: 1000\n",
      "                                                example  label_ex  \\\n",
      "7468  I've stayed here over ten to fifteen times ove...         0   \n",
      "3861  Perfect Barbers! My sons have been to various ...         1   \n",
      "\n",
      "     sentiment_ex  review_len  label_counter sentiment_counter  paired_id  \\\n",
      "7468     negative         108              1          positive          0   \n",
      "3861     positive         164              0          negative          1   \n",
      "\n",
      "     counterfactual  \n",
      "7468           None  \n",
      "3861           None  \n"
     ]
    }
   ],
   "source": [
    "produce_datasets(2000, 1000, \"tr1\")"
   ],
   "metadata": {
    "collapsed": false
   }
  },
  {
   "cell_type": "markdown",
   "source": [
    "The final size of each training set will be m+m+m=2m+m=n+m. The following sets are sampled from train.csv\n",
    "\n",
    "- origin.csv stores n+m original data points\n",
    "- m_data.csv\n",
    "- seed_data.csv is a sample (size m) from n_data\n",
    "\n",
    "You now need to produce m countefactuals from seed_data!! You will then use n_data.csv and m generated counterfactuals to train your classfier"
   ],
   "metadata": {
    "collapsed": false
   }
  },
  {
   "cell_type": "code",
   "execution_count": 165,
   "outputs": [
    {
     "data": {
      "text/plain": "                                                text  labels sentiment  \\\n0  The worst Panera experience ever! First my gir...       0  negative   \n1  What is wrong with you people.  how hard is it...       0  negative   \n\n   review_len  \n0         117  \n1         111  ",
      "text/html": "<div>\n<style scoped>\n    .dataframe tbody tr th:only-of-type {\n        vertical-align: middle;\n    }\n\n    .dataframe tbody tr th {\n        vertical-align: top;\n    }\n\n    .dataframe thead th {\n        text-align: right;\n    }\n</style>\n<table border=\"1\" class=\"dataframe\">\n  <thead>\n    <tr style=\"text-align: right;\">\n      <th></th>\n      <th>text</th>\n      <th>labels</th>\n      <th>sentiment</th>\n      <th>review_len</th>\n    </tr>\n  </thead>\n  <tbody>\n    <tr>\n      <th>0</th>\n      <td>The worst Panera experience ever! First my gir...</td>\n      <td>0</td>\n      <td>negative</td>\n      <td>117</td>\n    </tr>\n    <tr>\n      <th>1</th>\n      <td>What is wrong with you people.  how hard is it...</td>\n      <td>0</td>\n      <td>negative</td>\n      <td>111</td>\n    </tr>\n  </tbody>\n</table>\n</div>"
     },
     "execution_count": 165,
     "metadata": {},
     "output_type": "execute_result"
    }
   ],
   "source": [
    "test = pd.read_csv(\"/home/diego/counterfactuals-generation/cat_sentiment/yelp/test.csv\", sep='\\t')\n",
    "test.head(2)"
   ],
   "metadata": {
    "collapsed": false
   }
  },
  {
   "cell_type": "code",
   "execution_count": 166,
   "outputs": [
    {
     "data": {
      "text/plain": "1000"
     },
     "execution_count": 166,
     "metadata": {},
     "output_type": "execute_result"
    }
   ],
   "source": [
    "len(test)"
   ],
   "metadata": {
    "collapsed": false
   }
  }
 ],
 "metadata": {
  "kernelspec": {
   "display_name": "Python 3",
   "language": "python",
   "name": "python3"
  },
  "language_info": {
   "codemirror_mode": {
    "name": "ipython",
    "version": 2
   },
   "file_extension": ".py",
   "mimetype": "text/x-python",
   "name": "python",
   "nbconvert_exporter": "python",
   "pygments_lexer": "ipython2",
   "version": "2.7.6"
  }
 },
 "nbformat": 4,
 "nbformat_minor": 0
}
