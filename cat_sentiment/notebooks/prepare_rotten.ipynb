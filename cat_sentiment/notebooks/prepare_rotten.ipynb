{
 "cells": [
  {
   "cell_type": "code",
   "execution_count": 65,
   "metadata": {
    "collapsed": true
   },
   "outputs": [],
   "source": [
    "import pandas as pd\n",
    "import numpy as np"
   ]
  },
  {
   "cell_type": "code",
   "execution_count": 65,
   "outputs": [],
   "source": [],
   "metadata": {
    "collapsed": false
   }
  },
  {
   "cell_type": "markdown",
   "source": [
    "<h1>Rotten movies</h1>"
   ],
   "metadata": {
    "collapsed": false
   }
  },
  {
   "cell_type": "code",
   "execution_count": 66,
   "outputs": [
    {
     "name": "stderr",
     "output_type": "stream",
     "text": [
      "Using custom data configuration default\n",
      "Reusing dataset rotten_tomatoes_movie_review (/home/diego/.cache/huggingface/datasets/rotten_tomatoes_movie_review/default/1.0.0/40d411e45a6ce3484deed7cc15b82a53dad9a72aafd9f86f8f227134bec5ca46)\n"
     ]
    },
    {
     "data": {
      "text/plain": "  0%|          | 0/3 [00:00<?, ?it/s]",
      "application/vnd.jupyter.widget-view+json": {
       "version_major": 2,
       "version_minor": 0,
       "model_id": "fe6bfa37a606432b83f3a50d56c448f0"
      }
     },
     "metadata": {},
     "output_type": "display_data"
    }
   ],
   "source": [
    "from datasets import load_dataset\n",
    "\n",
    "rotten_data = load_dataset(\"rotten_tomatoes\")"
   ],
   "metadata": {
    "collapsed": false
   }
  },
  {
   "cell_type": "code",
   "execution_count": 67,
   "outputs": [
    {
     "name": "stdout",
     "output_type": "stream",
     "text": [
      "Total length of polarity rotten test 1066\n",
      "Total length of polarity rotten train 8530\n"
     ]
    }
   ],
   "source": [
    "print(f\"Total length of polarity rotten test {len(rotten_data['test'])}\")\n",
    "print(f\"Total length of polarity rotten train {len(rotten_data['train'])}\")"
   ],
   "metadata": {
    "collapsed": false
   }
  },
  {
   "cell_type": "markdown",
   "source": [
    "We merge train and test partitions"
   ],
   "metadata": {
    "collapsed": false
   }
  },
  {
   "cell_type": "code",
   "execution_count": 68,
   "outputs": [
    {
     "name": "stdout",
     "output_type": "stream",
     "text": [
      "df len:9596\n"
     ]
    },
    {
     "data": {
      "text/plain": "                                                text  labels sentiment\n0  the rock is destined to be the 21st century's ...       1  positive\n1  the gorgeously elaborate continuation of \" the...       1  positive",
      "text/html": "<div>\n<style scoped>\n    .dataframe tbody tr th:only-of-type {\n        vertical-align: middle;\n    }\n\n    .dataframe tbody tr th {\n        vertical-align: top;\n    }\n\n    .dataframe thead th {\n        text-align: right;\n    }\n</style>\n<table border=\"1\" class=\"dataframe\">\n  <thead>\n    <tr style=\"text-align: right;\">\n      <th></th>\n      <th>text</th>\n      <th>labels</th>\n      <th>sentiment</th>\n    </tr>\n  </thead>\n  <tbody>\n    <tr>\n      <th>0</th>\n      <td>the rock is destined to be the 21st century's ...</td>\n      <td>1</td>\n      <td>positive</td>\n    </tr>\n    <tr>\n      <th>1</th>\n      <td>the gorgeously elaborate continuation of \" the...</td>\n      <td>1</td>\n      <td>positive</td>\n    </tr>\n  </tbody>\n</table>\n</div>"
     },
     "execution_count": 68,
     "metadata": {},
     "output_type": "execute_result"
    }
   ],
   "source": [
    "texts = rotten_data[\"test\"][\"text\"]\n",
    "labels = rotten_data[\"test\"][\"label\"]\n",
    "d = {\"text\": texts,\n",
    "     \"labels\": labels,\n",
    "}\n",
    "df_test = pd.DataFrame(data=d)\n",
    "\n",
    "texts = rotten_data[\"train\"][\"text\"]\n",
    "labels = rotten_data[\"train\"][\"label\"]\n",
    "d = {\"text\": texts,\n",
    "     \"labels\": labels,\n",
    "     }\n",
    "df_train = pd.DataFrame(data=d)\n",
    "\n",
    "df_rotten = pd.concat([df_train, df_test])\n",
    "df_rotten[\"sentiment\"] = df_rotten.apply(lambda row: \"positive\" if row['labels'] else \"negative\", axis=1)\n",
    "print(f\"df len:{len(df_rotten)}\")\n",
    "df_rotten.head(2)"
   ],
   "metadata": {
    "collapsed": false
   }
  },
  {
   "cell_type": "code",
   "execution_count": 69,
   "outputs": [
    {
     "name": "stdout",
     "output_type": "stream",
     "text": [
      "Max len: 59\n",
      "Mean len: 21.017507294706128\n",
      "Min len: 1\n"
     ]
    },
    {
     "data": {
      "text/plain": "positive    4798\nnegative    4798\nName: sentiment, dtype: int64"
     },
     "execution_count": 69,
     "metadata": {},
     "output_type": "execute_result"
    }
   ],
   "source": [
    "texts = df_rotten[\"text\"].values\n",
    "lens = [len(el.split(\" \")) for el in texts]\n",
    "print(f\"Max len: {np.max(lens)}\")\n",
    "print(f\"Mean len: {np.mean(lens)}\")\n",
    "print(f\"Min len: {np.min(lens)}\")\n",
    "\n",
    "df_rotten[\"sentiment\"].value_counts()"
   ],
   "metadata": {
    "collapsed": false
   }
  },
  {
   "cell_type": "code",
   "execution_count": 77,
   "outputs": [
    {
     "name": "stdout",
     "output_type": "stream",
     "text": [
      "Max len: 59\n",
      "Mean len: 22.464150943396227\n",
      "Min len: 9\n",
      "df len:8745\n"
     ]
    },
    {
     "data": {
      "text/plain": "1    4389\n0    4356\nName: labels, dtype: int64"
     },
     "execution_count": 77,
     "metadata": {},
     "output_type": "execute_result"
    }
   ],
   "source": [
    "# filter out reviews longer than 2000 and shorter than 10 words\n",
    "texts = df_rotten[\"text\"].values\n",
    "df_rotten[\"review_len\"] = [len(el.split(\" \")) for el in texts]\n",
    "df_rotten = df_rotten[(df_rotten[\"review_len\"] <= 2000) & (df_rotten[\"review_len\"] >= 9)].copy()\n",
    "\n",
    "lens = [len(el) for el in df_rotten[\"text\"].values]\n",
    "print(f\"Max len: {np.max(df_rotten['review_len'].values)}\")\n",
    "print(f\"Mean len: {np.mean(df_rotten['review_len'].values)}\")\n",
    "print(f\"Min len: {np.min(df_rotten['review_len'].values)}\")\n",
    "\n",
    "print(f\"df len:{len(df_rotten)}\")\n",
    "df_rotten[\"labels\"].value_counts()"
   ],
   "metadata": {
    "collapsed": false
   }
  },
  {
   "cell_type": "code",
   "execution_count": 71,
   "outputs": [],
   "source": [
    "df_pos = df_rotten[df_rotten[\"labels\"] == 1].copy()\n",
    "df_neg = df_rotten[df_rotten[\"labels\"] == 0].copy()"
   ],
   "metadata": {
    "collapsed": false
   }
  },
  {
   "cell_type": "markdown",
   "source": [
    "## Sample train-test split 7.5k-1k"
   ],
   "metadata": {
    "collapsed": false
   }
  },
  {
   "cell_type": "code",
   "execution_count": 72,
   "outputs": [
    {
     "name": "stdout",
     "output_type": "stream",
     "text": [
      "\n",
      "len test: 1000\n",
      "len train: 7500\n"
     ]
    }
   ],
   "source": [
    "seed = 2023\n",
    "\n",
    "# shuffle data\n",
    "df_pos = df_pos.sample(frac = 1, replace=False)\n",
    "df_pos.reset_index(inplace=True)\n",
    "df_neg = df_neg.sample(frac = 1, replace=False)\n",
    "df_neg.reset_index(inplace=True)\n",
    "\n",
    "# sample positive and negative labels\n",
    "data_pos = df_pos.sample(n=4250, replace=False, random_state=seed)\n",
    "data_neg = df_neg.sample(n=4250, replace=False, random_state=seed)\n",
    "\n",
    "\n",
    "# sample train-test split positive labels\n",
    "test_pos = data_pos.sample(n=500, replace=False, random_state=seed)\n",
    "train_pos = data_pos[~data_pos.index.isin(test_pos.index)]\n",
    "\n",
    "# sample train-test split negative labels\n",
    "test_neg = data_neg.sample(n=500, replace=False, random_state=seed)\n",
    "train_neg = data_neg[~data_neg.index.isin(test_neg.index)]\n",
    "\n",
    "# build train and test\n",
    "testset = pd.concat([test_neg, test_pos])\n",
    "trainset = pd.concat([train_neg, train_pos])\n",
    "\n",
    "print()\n",
    "print(f\"len test: {len(testset)}\")\n",
    "print(f\"len train: {len(trainset)}\")"
   ],
   "metadata": {
    "collapsed": false
   }
  },
  {
   "cell_type": "code",
   "execution_count": 73,
   "outputs": [],
   "source": [
    "testset.to_csv(\"../rotten/test.csv\", sep=\"\\t\", index=False)\n",
    "trainset.to_csv(\"../rotten/train.csv\", sep=\"\\t\", index=False)"
   ],
   "metadata": {
    "collapsed": false
   }
  },
  {
   "cell_type": "code",
   "execution_count": 74,
   "outputs": [],
   "source": [
    "def produce_datasets(n, m, out_dir):\n",
    "     train_set = pd.read_csv(\"../rotten/train.csv\", sep=\"\\t\")\n",
    "     print(len(train_set))\n",
    "\n",
    "     df_origin = train_set.sample(n=n+m, replace=False, random_state=seed)\n",
    "     df_n = df_origin.sample(n=n, replace=False, random_state=seed)\n",
    "     df_seed = df_n.sample(n=m, replace=False, random_state=seed)\n",
    "\n",
    "     print(f\"len origin: {len(df_origin)}\")\n",
    "     print(f\"len n_data: {len(df_n)}\")\n",
    "     print(f\"len seed: {len(df_seed)}\")\n",
    "\n",
    "     df_origin = trainset.sample(n=n+m, replace=False, random_state=seed)\n",
    "     df_n = df_origin.sample(n=n, replace=False, random_state=seed)\n",
    "     df_seed = df_n.sample(n=m, replace=False, random_state=seed)\n",
    "\n",
    "     print(f\"len origin: {len(df_origin)}\")\n",
    "     print(f\"len n_data: {len(df_n)}\")\n",
    "     print(f\"len seed: {len(df_seed)}\")\n",
    "\n",
    "     df_seed[\"label_counter\"] = [int(not el) for el in df_seed[\"labels\"]]\n",
    "     df_seed[\"sentiment_counter\"] = [\"positive\" if x==\"negative\" else \"negative\" for x in df_seed[\"sentiment\"]]\n",
    "     df_seed.rename(columns={\"labels\": \"label_ex\",\n",
    "                             \"text\": \"example\",\n",
    "                             \"sentiment\": \"sentiment_ex\"}, inplace=True)\n",
    "\n",
    "     df_seed[\"paired_id\"] = [i for i in range(len(df_seed))]\n",
    "     df_seed[\"counterfactual\"] = [\"None\" for i in range(len(df_seed))]\n",
    "\n",
    "     df_origin.to_csv(f\"../rotten/{out_dir}/origin_data.csv\", sep=\"\\t\", index=False)\n",
    "     df_n.to_csv(f\"../rotten/{out_dir}/n_data.csv\", sep=\"\\t\", index=False)\n",
    "     df_seed.to_csv(f\"../rotten/{out_dir}/seed_data.csv\", sep=\"\\t\", index=False)"
   ],
   "metadata": {
    "collapsed": false
   }
  },
  {
   "cell_type": "code",
   "execution_count": 74,
   "outputs": [],
   "source": [],
   "metadata": {
    "collapsed": false
   }
  },
  {
   "cell_type": "markdown",
   "source": [
    "## n=5k & m=2.5k (n=2m)"
   ],
   "metadata": {
    "collapsed": false
   }
  },
  {
   "cell_type": "code",
   "execution_count": 75,
   "outputs": [
    {
     "name": "stdout",
     "output_type": "stream",
     "text": [
      "7500\n",
      "len origin: 7500\n",
      "len n_data: 5000\n",
      "len seed: 2500\n",
      "len origin: 7500\n",
      "len n_data: 5000\n",
      "len seed: 2500\n"
     ]
    }
   ],
   "source": [
    "produce_datasets(5000, 2500, \"tr2\")"
   ],
   "metadata": {
    "collapsed": false
   }
  },
  {
   "cell_type": "code",
   "execution_count": 76,
   "outputs": [
    {
     "name": "stdout",
     "output_type": "stream",
     "text": [
      "7500\n",
      "len origin: 3000\n",
      "len n_data: 2000\n",
      "len seed: 1000\n",
      "len origin: 3000\n",
      "len n_data: 2000\n",
      "len seed: 1000\n"
     ]
    }
   ],
   "source": [
    "produce_datasets(2000, 1000, \"tr1\")"
   ],
   "metadata": {
    "collapsed": false
   }
  },
  {
   "cell_type": "markdown",
   "source": [
    "The final size of each training set will be m+m+m=2m+m=n+m. The following sets are sampled from train.csv\n",
    "\n",
    "- origin.csv stores n+m original data points\n",
    "- m_data.csv\n",
    "- seed_data.csv is a sample (size m) from n_data\n",
    "\n",
    "You now need to produce m countefactuals from seed_data!! You will then use n_data.csv and m generated counterfactuals to train your classfier"
   ],
   "metadata": {
    "collapsed": false
   }
  },
  {
   "cell_type": "code",
   "execution_count": 76,
   "outputs": [],
   "source": [],
   "metadata": {
    "collapsed": false
   }
  }
 ],
 "metadata": {
  "kernelspec": {
   "display_name": "Python 3",
   "language": "python",
   "name": "python3"
  },
  "language_info": {
   "codemirror_mode": {
    "name": "ipython",
    "version": 2
   },
   "file_extension": ".py",
   "mimetype": "text/x-python",
   "name": "python",
   "nbconvert_exporter": "python",
   "pygments_lexer": "ipython2",
   "version": "2.7.6"
  }
 },
 "nbformat": 4,
 "nbformat_minor": 0
}
